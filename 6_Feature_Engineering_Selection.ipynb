{
 "cells": [
  {
   "cell_type": "code",
   "execution_count": 1,
   "metadata": {},
   "outputs": [],
   "source": [
    "import numpy as np\n",
    "import pandas as pd\n",
    "import seaborn as sns\n",
    "import matplotlib.pyplot as plt\n",
    "\n",
    "from sklearn.impute import SimpleImputer\n",
    "from sklearn.preprocessing import StandardScaler, MinMaxScaler, OrdinalEncoder, OneHotEncoder\n",
    "from sklearn.decomposition import PCA\n",
    "\n",
    "from sklearn.feature_selection import VarianceThreshold, SelectFromModel, RFECV, SequentialFeatureSelector\n",
    "\n",
    "from sklearn.ensemble import RandomForestClassifier, RandomForestRegressor\n",
    "from sklearn.linear_model import LogisticRegression\n",
    "\n",
    "from sklearn.model_selection import KFold, cross_val_score, train_test_split\n",
    "from sklearn.pipeline import Pipeline, make_pipeline\n",
    "from sklearn.metrics import accuracy_score\n",
    "\n",
    "from sklearn.datasets import make_classification, load_wine, load_breast_cancer, load_diabetes, load_digits"
   ]
  },
  {
   "cell_type": "code",
   "execution_count": 2,
   "metadata": {},
   "outputs": [],
   "source": [
    "plt.style.use('seaborn-darkgrid')"
   ]
  },
  {
   "cell_type": "code",
   "execution_count": 3,
   "metadata": {},
   "outputs": [],
   "source": [
    "def plot_scatter(x, y, auto_scaled=True, title=None, clusters=None):\n",
    "    plt.figure(figsize=(4, 4))\n",
    "    plt.scatter(x, y, c=clusters, cmap='Paired')\n",
    "    \n",
    "    if not auto_scaled:\n",
    "        plt.axis('square')\n",
    "    \n",
    "    plt.grid(True)\n",
    "    plt.title(title)\n",
    "    \n",
    "    plt.show()\n",
    "    \n",
    "def return_X_y(data, target_column):\n",
    "    return data.drop(target_column, axis=1), data[target_column]"
   ]
  },
  {
   "cell_type": "code",
   "execution_count": 4,
   "metadata": {},
   "outputs": [],
   "source": [
    "wine_sklearn = load_wine(as_frame=True)\n",
    "wine_data, wine_labels = wine_sklearn['data'], wine_sklearn['target']"
   ]
  },
  {
   "cell_type": "markdown",
   "metadata": {},
   "source": [
    "# Homework"
   ]
  },
  {
   "cell_type": "markdown",
   "metadata": {},
   "source": [
    "## Exercise  1 - Scaling (2 points)"
   ]
  },
  {
   "cell_type": "markdown",
   "metadata": {},
   "source": [
    "Perform standardization for wine dataset (`wine_data`) using only basic python, numpy and pandas (without using `StandardScaler` and sklearn at all). Implementation of function (or class) that can get dataset as input and return standardized dataset as output is preferrable, but not necessary.\n",
    "\n",
    "Compare you results (output) with `StandardScaler`.\n",
    "\n",
    "**NOTE:**\n",
    "\n",
    "- 1 point for functional version, 2 points for implementing scaling as sklearn pipeline compartible class. \n",
    "- Maximum for the exercise is 2 points.\n"
   ]
  },
  {
   "cell_type": "markdown",
   "metadata": {},
   "source": [
    "### Simple version (1 point)"
   ]
  },
  {
   "cell_type": "code",
   "execution_count": 5,
   "metadata": {},
   "outputs": [],
   "source": [
    "# 1 point\n",
    "def scale(X):\n",
    "    # your code here\n",
    "    X_scaled = (X - np.mean(X, axis=0)) / np.std(X, axis=0)\n",
    "    return X_scaled"
   ]
  },
  {
   "cell_type": "code",
   "execution_count": 6,
   "metadata": {},
   "outputs": [],
   "source": [
    "assert np.allclose(np.array(scale(wine_data)), StandardScaler().fit_transform(wine_data))"
   ]
  },
  {
   "cell_type": "markdown",
   "metadata": {},
   "source": [
    "### Pipeline Version (2 points)"
   ]
  },
  {
   "cell_type": "code",
   "execution_count": 7,
   "metadata": {},
   "outputs": [],
   "source": [
    "# 2 points\n",
    "from sklearn.base import BaseEstimator, TransformerMixin\n",
    "class CustomScaler(BaseEstimator, TransformerMixin):\n",
    "    def __init__(self, columns=None, copy=True, with_mean=True, with_std=True):\n",
    "        # your code here\n",
    "        self.columns_ = columns\n",
    "        self.copy_ = copy\n",
    "        self.mean_ = 0 if with_mean else None\n",
    "        self.std_ = 1 if with_std else None\n",
    "\n",
    "    def fit(self, X, y=None):\n",
    "        # your code here\n",
    "        self.mean_ = 0 if self.mean_ is None else np.mean(X, axis=0)\n",
    "        self.std_ = 1 if self.std_ is None else np.std(X, axis=0)\n",
    "        return self\n",
    "\n",
    "    def transform(self, X, y=None, copy=None):\n",
    "        # your code here\n",
    "        data = X[:] if copy else X\n",
    "        data = (data - self.mean_) / self.std_\n",
    "        return data"
   ]
  },
  {
   "cell_type": "code",
   "execution_count": 8,
   "metadata": {},
   "outputs": [],
   "source": [
    "assert np.allclose(CustomScaler().fit_transform(wine_data), StandardScaler().fit_transform(wine_data))"
   ]
  },
  {
   "cell_type": "markdown",
   "metadata": {},
   "source": [
    "## Exercise  2 - Visualization (3 points)"
   ]
  },
  {
   "cell_type": "markdown",
   "metadata": {},
   "source": [
    "As noted earlier, standardization/normalization of data can be crucial for some distance-based ML methods.\n",
    "\n",
    "Let’s generate some toy example of unnormalized data and visualize the importance of this process once more:"
   ]
  },
  {
   "cell_type": "code",
   "execution_count": 9,
   "metadata": {},
   "outputs": [
    {
     "data": {
      "text/plain": [
       "array([[  1.25458652,  -0.80241192],\n",
       "       [-10.61718731,   0.30316399],\n",
       "       [ 24.40314767,  -0.11915033],\n",
       "       ...,\n",
       "       [  4.23290929,   6.0577301 ],\n",
       "       [ -3.10231793,   3.45371954],\n",
       "       [  0.98300846,   3.47970026]])"
      ]
     },
     "execution_count": 9,
     "metadata": {},
     "output_type": "execute_result"
    }
   ],
   "source": [
    "feature_0 = np.random.randn(1000) * 10   \n",
    "feature_1 = np.concatenate([np.random.randn(500), np.random.randn(500) + 5])\n",
    "data = np.column_stack([feature_0, feature_1])\n",
    "data "
   ]
  },
  {
   "cell_type": "code",
   "execution_count": 10,
   "metadata": {},
   "outputs": [
    {
     "data": {
      "image/png": "[encoded data removed]",
      "text/plain": [
       "<Figure size 288x288 with 1 Axes>"
      ]
     },
     "metadata": {},
     "output_type": "display_data"
    }
   ],
   "source": [
    "plot_scatter(data[:, 0], data[:, 1], auto_scaled=True, title='Data (different axes units!)')"
   ]
  },
  {
   "cell_type": "markdown",
   "metadata": {},
   "source": [
    "**NOTE:** on the plot above axes are scaled differently and we can clearly see two potential *classes/clusters*. In fact `matplotlib` performed `autoscaling` (which is basically can be considered as `MinMaxScaling` of original data) just for better visualization purposes.\n",
    "\n",
    "Let's turn this feature off and visualize the original data on the plot with equally scaled axes:"
   ]
  },
  {
   "cell_type": "code",
   "execution_count": 11,
   "metadata": {},
   "outputs": [
    {
     "data": {
      "image/png": "[encoded data removed]",
      "text/plain": [
       "<Figure size 288x288 with 1 Axes>"
      ]
     },
     "metadata": {},
     "output_type": "display_data"
    }
   ],
   "source": [
    "plot_scatter(data[:, 0], data[:, 1], auto_scaled=False , title='Data (equal axes units!)')"
   ]
  },
  {
   "cell_type": "markdown",
   "metadata": {},
   "source": [
    "This picture is clearly less interpretable, but much closer to \"how distance-based algorithm see the original data\": separability of data is hardly noticable only because the variation (std) of x-feature is much bigger in absolute numbers."
   ]
  },
  {
   "cell_type": "markdown",
   "metadata": {},
   "source": [
    "Perform `StandardScaling` and `MinMaxScaling` of original data; visualize results for each case (**use `plot_scatter` with `auto_scaled=False`**):"
   ]
  },
  {
   "cell_type": "markdown",
   "metadata": {},
   "source": [
    "### MinMaxScaling (0.5 point)"
   ]
  },
  {
   "cell_type": "code",
   "execution_count": 12,
   "metadata": {},
   "outputs": [
    {
     "data": {
      "image/png": "[encoded data removed]",
      "text/plain": [
       "<Figure size 288x288 with 1 Axes>"
      ]
     },
     "metadata": {},
     "output_type": "display_data"
    }
   ],
   "source": [
    "## your code\n",
    "mm_scaler = MinMaxScaler()\n",
    "data_tr_mm = mm_scaler.fit_transform(data)\n",
    "plot_scatter(data_tr_mm[:, 0], data_tr_mm[:, 1], auto_scaled=False, title='Data transformed with MinMaxScaler()')"
   ]
  },
  {
   "cell_type": "markdown",
   "metadata": {},
   "source": [
    "### StandardScaler (0.5 point)"
   ]
  },
  {
   "cell_type": "code",
   "execution_count": 13,
   "metadata": {},
   "outputs": [
    {
     "data": {
      "image/png": "[encoded data removed]",
      "text/plain": [
       "<Figure size 288x288 with 1 Axes>"
      ]
     },
     "metadata": {},
     "output_type": "display_data"
    }
   ],
   "source": [
    "## your code\n",
    "st_scaler = StandardScaler()\n",
    "data_tr_st = st_scaler.fit_transform(data)\n",
    "plot_scatter(data_tr_st[:, 0], data_tr_st[:, 1], auto_scaled=False, title='Data transformed with StandartScaler()')"
   ]
  },
  {
   "cell_type": "markdown",
   "metadata": {},
   "source": [
    "### (Bonus) K-means (2 points)"
   ]
  },
  {
   "cell_type": "markdown",
   "metadata": {},
   "source": [
    "Illustrate the impact of scaling on basic distance-based clustering algorithm [K-means](https://towardsdatascience.com/understanding-k-means-clustering-in-machine-learning-6a6e67336aa1) using `data` generated above.\n",
    "\n",
    "**NOTE:** basically, you don't need understanding K-means algorithm here, you just need to:\n",
    "\n",
    "1) run algorithm (with k=2, k - number of clusters/classes) on unscaled data    \n",
    "2) run algorithm (with k=2) on scaled data    \n",
    "3) plot results: highlight different clusters using different colors.\n",
    "\n",
    "You can use this [question](https://stats.stackexchange.com/questions/89809/is-it-important-to-scale-data-before-clustering/89813) as a hint, but I recommend you to plot results using `plot_scatter` with `equal_scaled=True`: it might help you to intuitively understand the reasons of such scaling impact.\n"
   ]
  },
  {
   "cell_type": "code",
   "execution_count": 14,
   "metadata": {},
   "outputs": [],
   "source": [
    "## your code\n",
    "from sklearn.cluster import KMeans"
   ]
  },
  {
   "cell_type": "code",
   "execution_count": 15,
   "metadata": {},
   "outputs": [
    {
     "data": {
      "image/png": "[encoded data removed]",
      "text/plain": [
       "<Figure size 288x288 with 1 Axes>"
      ]
     },
     "metadata": {},
     "output_type": "display_data"
    }
   ],
   "source": [
    "cluster = KMeans(n_clusters=2)\n",
    "cluster.fit(data)\n",
    "plot_scatter(data[:, 0], data[:, 1], auto_scaled=False, title='Clustering on unscaled data', clusters=cluster.predict(data))"
   ]
  },
  {
   "cell_type": "code",
   "execution_count": 16,
   "metadata": {},
   "outputs": [
    {
     "data": {
      "image/png": "[encoded data removed]",
      "text/plain": [
       "<Figure size 288x288 with 1 Axes>"
      ]
     },
     "metadata": {},
     "output_type": "display_data"
    }
   ],
   "source": [
    "cluster.fit(data_tr_mm)\n",
    "plot_scatter(data_tr_mm[:, 0], data_tr_mm[:, 1], auto_scaled=False, title='Clustering on normalized data', clusters=cluster.predict(data_tr_mm))"
   ]
  },
  {
   "cell_type": "code",
   "execution_count": 17,
   "metadata": {},
   "outputs": [
    {
     "data": {
      "image/png": "[encoded data removed]",
      "text/plain": [
       "<Figure size 288x288 with 1 Axes>"
      ]
     },
     "metadata": {},
     "output_type": "display_data"
    }
   ],
   "source": [
    "cluster.fit(data_tr_st)\n",
    "plot_scatter(data_tr_st[:, 0], data_tr_st[:, 1], auto_scaled=False, title='Clustering on standartized data', clusters=cluster.predict(data_tr_st))"
   ]
  },
  {
   "cell_type": "markdown",
   "metadata": {},
   "source": [
    "## Exercise  3 - Preprocessing Pipeline (2 points)"
   ]
  },
  {
   "cell_type": "code",
   "execution_count": 18,
   "metadata": {},
   "outputs": [],
   "source": [
    "wine_train, wine_val, wine_labels_train, wine_labels_val = train_test_split(wine_data, wine_labels, \n",
    "                                                                            test_size=0.3, random_state=42)"
   ]
  },
  {
   "cell_type": "markdown",
   "metadata": {},
   "source": [
    "Train model (for example, `LogisticRegression(solver='liblinear', penalty='l1')` on raw `wine_train` data; then train same model after data scaling; then add feature selection (and train model again on scaled data). For each experiment all required preprocessing steps (if any) should be wrapped into sklearn pipeline.\n",
    "\n",
    "Measure `accuracy` of all 3 approaches on `wine_val` dataset. Describe and explain results."
   ]
  },
  {
   "cell_type": "code",
   "execution_count": 19,
   "metadata": {},
   "outputs": [],
   "source": [
    "from sklearn import set_config\n",
    "set_config(display='diagram')"
   ]
  },
  {
   "cell_type": "code",
   "execution_count": 20,
   "metadata": {},
   "outputs": [],
   "source": [
    "regressor = LogisticRegression(solver='liblinear', penalty='l1')"
   ]
  },
  {
   "cell_type": "markdown",
   "metadata": {},
   "source": [
    "Without scaling:"
   ]
  },
  {
   "cell_type": "code",
   "execution_count": 21,
   "metadata": {},
   "outputs": [
    {
     "data": {
      "text/html": [
       "<style>#sk-b4f6af1c-03a9-4ea9-bec1-56f536bdf2f1 {color: black;background-color: white;}#sk-b4f6af1c-03a9-4ea9-bec1-56f536bdf2f1 pre{padding: 0;}#sk-b4f6af1c-03a9-4ea9-bec1-56f536bdf2f1 div.sk-toggleable {background-color: white;}#sk-b4f6af1c-03a9-4ea9-bec1-56f536bdf2f1 label.sk-toggleable__label {cursor: pointer;display: block;width: 100%;margin-bottom: 0;padding: 0.3em;box-sizing: border-box;text-align: center;}#sk-b4f6af1c-03a9-4ea9-bec1-56f536bdf2f1 label.sk-toggleable__label-arrow:before {content: \"▸\";float: left;margin-right: 0.25em;color: #696969;}#sk-b4f6af1c-03a9-4ea9-bec1-56f536bdf2f1 label.sk-toggleable__label-arrow:hover:before {color: black;}#sk-b4f6af1c-03a9-4ea9-bec1-56f536bdf2f1 div.sk-estimator:hover label.sk-toggleable__label-arrow:before {color: black;}#sk-b4f6af1c-03a9-4ea9-bec1-56f536bdf2f1 div.sk-toggleable__content {max-height: 0;max-width: 0;overflow: hidden;text-align: left;background-color: #f0f8ff;}#sk-b4f6af1c-03a9-4ea9-bec1-56f536bdf2f1 div.sk-toggleable__content pre {margin: 0.2em;color: black;border-radius: 0.25em;background-color: #f0f8ff;}#sk-b4f6af1c-03a9-4ea9-bec1-56f536bdf2f1 input.sk-toggleable__control:checked~div.sk-toggleable__content {max-height: 200px;max-width: 100%;overflow: auto;}#sk-b4f6af1c-03a9-4ea9-bec1-56f536bdf2f1 input.sk-toggleable__control:checked~label.sk-toggleable__label-arrow:before {content: \"▾\";}#sk-b4f6af1c-03a9-4ea9-bec1-56f536bdf2f1 div.sk-estimator input.sk-toggleable__control:checked~label.sk-toggleable__label {background-color: #d4ebff;}#sk-b4f6af1c-03a9-4ea9-bec1-56f536bdf2f1 div.sk-label input.sk-toggleable__control:checked~label.sk-toggleable__label {background-color: #d4ebff;}#sk-b4f6af1c-03a9-4ea9-bec1-56f536bdf2f1 input.sk-hidden--visually {border: 0;clip: rect(1px 1px 1px 1px);clip: rect(1px, 1px, 1px, 1px);height: 1px;margin: -1px;overflow: hidden;padding: 0;position: absolute;width: 1px;}#sk-b4f6af1c-03a9-4ea9-bec1-56f536bdf2f1 div.sk-estimator {font-family: monospace;background-color: #f0f8ff;border: 1px dotted black;border-radius: 0.25em;box-sizing: border-box;margin-bottom: 0.5em;}#sk-b4f6af1c-03a9-4ea9-bec1-56f536bdf2f1 div.sk-estimator:hover {background-color: #d4ebff;}#sk-b4f6af1c-03a9-4ea9-bec1-56f536bdf2f1 div.sk-parallel-item::after {content: \"\";width: 100%;border-bottom: 1px solid gray;flex-grow: 1;}#sk-b4f6af1c-03a9-4ea9-bec1-56f536bdf2f1 div.sk-label:hover label.sk-toggleable__label {background-color: #d4ebff;}#sk-b4f6af1c-03a9-4ea9-bec1-56f536bdf2f1 div.sk-serial::before {content: \"\";position: absolute;border-left: 1px solid gray;box-sizing: border-box;top: 2em;bottom: 0;left: 50%;}#sk-b4f6af1c-03a9-4ea9-bec1-56f536bdf2f1 div.sk-serial {display: flex;flex-direction: column;align-items: center;background-color: white;padding-right: 0.2em;padding-left: 0.2em;}#sk-b4f6af1c-03a9-4ea9-bec1-56f536bdf2f1 div.sk-item {z-index: 1;}#sk-b4f6af1c-03a9-4ea9-bec1-56f536bdf2f1 div.sk-parallel {display: flex;align-items: stretch;justify-content: center;background-color: white;}#sk-b4f6af1c-03a9-4ea9-bec1-56f536bdf2f1 div.sk-parallel::before {content: \"\";position: absolute;border-left: 1px solid gray;box-sizing: border-box;top: 2em;bottom: 0;left: 50%;}#sk-b4f6af1c-03a9-4ea9-bec1-56f536bdf2f1 div.sk-parallel-item {display: flex;flex-direction: column;position: relative;background-color: white;}#sk-b4f6af1c-03a9-4ea9-bec1-56f536bdf2f1 div.sk-parallel-item:first-child::after {align-self: flex-end;width: 50%;}#sk-b4f6af1c-03a9-4ea9-bec1-56f536bdf2f1 div.sk-parallel-item:last-child::after {align-self: flex-start;width: 50%;}#sk-b4f6af1c-03a9-4ea9-bec1-56f536bdf2f1 div.sk-parallel-item:only-child::after {width: 0;}#sk-b4f6af1c-03a9-4ea9-bec1-56f536bdf2f1 div.sk-dashed-wrapped {border: 1px dashed gray;margin: 0 0.4em 0.5em 0.4em;box-sizing: border-box;padding-bottom: 0.4em;background-color: white;position: relative;}#sk-b4f6af1c-03a9-4ea9-bec1-56f536bdf2f1 div.sk-label label {font-family: monospace;font-weight: bold;background-color: white;display: inline-block;line-height: 1.2em;}#sk-b4f6af1c-03a9-4ea9-bec1-56f536bdf2f1 div.sk-label-container {position: relative;z-index: 2;text-align: center;}#sk-b4f6af1c-03a9-4ea9-bec1-56f536bdf2f1 div.sk-container {/* jupyter's `normalize.less` sets `[hidden] { display: none; }` but bootstrap.min.css set `[hidden] { display: none !important; }` so we also need the `!important` here to be able to override the default hidden behavior on the sphinx rendered scikit-learn.org. See: https://github.com/scikit-learn/scikit-learn/issues/21755 */display: inline-block !important;position: relative;}#sk-b4f6af1c-03a9-4ea9-bec1-56f536bdf2f1 div.sk-text-repr-fallback {display: none;}</style><div id=\"sk-b4f6af1c-03a9-4ea9-bec1-56f536bdf2f1\" class=\"sk-top-container\"><div class=\"sk-text-repr-fallback\"><pre>Pipeline(steps=[(&#x27;logisticregression&#x27;,\n",
       "                 LogisticRegression(penalty=&#x27;l1&#x27;, solver=&#x27;liblinear&#x27;))])</pre><b>Please rerun this cell to show the HTML repr or trust the notebook.</b></div><div class=\"sk-container\" hidden><div class=\"sk-item sk-dashed-wrapped\"><div class=\"sk-label-container\"><div class=\"sk-label sk-toggleable\"><input class=\"sk-toggleable__control sk-hidden--visually\" id=\"622b369e-6dc0-4385-b4d2-64ec3568b539\" type=\"checkbox\" ><label for=\"622b369e-6dc0-4385-b4d2-64ec3568b539\" class=\"sk-toggleable__label sk-toggleable__label-arrow\">Pipeline</label><div class=\"sk-toggleable__content\"><pre>Pipeline(steps=[(&#x27;logisticregression&#x27;,\n",
       "                 LogisticRegression(penalty=&#x27;l1&#x27;, solver=&#x27;liblinear&#x27;))])</pre></div></div></div><div class=\"sk-serial\"><div class=\"sk-item\"><div class=\"sk-estimator sk-toggleable\"><input class=\"sk-toggleable__control sk-hidden--visually\" id=\"344d2e60-b796-4cb7-bb77-1c1c415c4d81\" type=\"checkbox\" ><label for=\"344d2e60-b796-4cb7-bb77-1c1c415c4d81\" class=\"sk-toggleable__label sk-toggleable__label-arrow\">LogisticRegression</label><div class=\"sk-toggleable__content\"><pre>LogisticRegression(penalty=&#x27;l1&#x27;, solver=&#x27;liblinear&#x27;)</pre></div></div></div></div></div></div></div>"
      ],
      "text/plain": [
       "Pipeline(steps=[('logisticregression',\n",
       "                 LogisticRegression(penalty='l1', solver='liblinear'))])"
      ]
     },
     "metadata": {},
     "output_type": "display_data"
    },
    {
     "name": "stdout",
     "output_type": "stream",
     "text": [
      "Test accuracy: 0.9814814814814815\n"
     ]
    }
   ],
   "source": [
    "model = make_pipeline(regressor)\n",
    "display(model)\n",
    "model.fit(wine_train, wine_labels_train)\n",
    "y_pred = model.predict(wine_val)\n",
    "acc_base_model = accuracy_score(wine_labels_val, y_pred)\n",
    "print(f'Test accuracy: {acc_base_model}')"
   ]
  },
  {
   "cell_type": "markdown",
   "metadata": {},
   "source": [
    "Let's look at the distribution of our features (especially min/max, mean and median)"
   ]
  },
  {
   "cell_type": "code",
   "execution_count": 22,
   "metadata": {
    "scrolled": true
   },
   "outputs": [
    {
     "data": {
      "text/html": [
       "<div>\n",
       "<style scoped>\n",
       "    .dataframe tbody tr th:only-of-type {\n",
       "        vertical-align: middle;\n",
       "    }\n",
       "\n",
       "    .dataframe tbody tr th {\n",
       "        vertical-align: top;\n",
       "    }\n",
       "\n",
       "    .dataframe thead th {\n",
       "        text-align: right;\n",
       "    }\n",
       "</style>\n",
       "<table border=\"1\" class=\"dataframe\">\n",
       "  <thead>\n",
       "    <tr style=\"text-align: right;\">\n",
       "      <th></th>\n",
       "      <th>alcohol</th>\n",
       "      <th>malic_acid</th>\n",
       "      <th>ash</th>\n",
       "      <th>alcalinity_of_ash</th>\n",
       "      <th>magnesium</th>\n",
       "      <th>total_phenols</th>\n",
       "      <th>flavanoids</th>\n",
       "      <th>nonflavanoid_phenols</th>\n",
       "      <th>proanthocyanins</th>\n",
       "      <th>color_intensity</th>\n",
       "      <th>hue</th>\n",
       "      <th>od280/od315_of_diluted_wines</th>\n",
       "      <th>proline</th>\n",
       "    </tr>\n",
       "  </thead>\n",
       "  <tbody>\n",
       "    <tr>\n",
       "      <th>count</th>\n",
       "      <td>178.000000</td>\n",
       "      <td>178.000000</td>\n",
       "      <td>178.000000</td>\n",
       "      <td>178.000000</td>\n",
       "      <td>178.000000</td>\n",
       "      <td>178.000000</td>\n",
       "      <td>178.000000</td>\n",
       "      <td>178.000000</td>\n",
       "      <td>178.000000</td>\n",
       "      <td>178.000000</td>\n",
       "      <td>178.000000</td>\n",
       "      <td>178.000000</td>\n",
       "      <td>178.000000</td>\n",
       "    </tr>\n",
       "    <tr>\n",
       "      <th>mean</th>\n",
       "      <td>13.000618</td>\n",
       "      <td>2.336348</td>\n",
       "      <td>2.366517</td>\n",
       "      <td>19.494944</td>\n",
       "      <td>99.741573</td>\n",
       "      <td>2.295112</td>\n",
       "      <td>2.029270</td>\n",
       "      <td>0.361854</td>\n",
       "      <td>1.590899</td>\n",
       "      <td>5.058090</td>\n",
       "      <td>0.957449</td>\n",
       "      <td>2.611685</td>\n",
       "      <td>746.893258</td>\n",
       "    </tr>\n",
       "    <tr>\n",
       "      <th>std</th>\n",
       "      <td>0.811827</td>\n",
       "      <td>1.117146</td>\n",
       "      <td>0.274344</td>\n",
       "      <td>3.339564</td>\n",
       "      <td>14.282484</td>\n",
       "      <td>0.625851</td>\n",
       "      <td>0.998859</td>\n",
       "      <td>0.124453</td>\n",
       "      <td>0.572359</td>\n",
       "      <td>2.318286</td>\n",
       "      <td>0.228572</td>\n",
       "      <td>0.709990</td>\n",
       "      <td>314.907474</td>\n",
       "    </tr>\n",
       "    <tr>\n",
       "      <th>min</th>\n",
       "      <td>11.030000</td>\n",
       "      <td>0.740000</td>\n",
       "      <td>1.360000</td>\n",
       "      <td>10.600000</td>\n",
       "      <td>70.000000</td>\n",
       "      <td>0.980000</td>\n",
       "      <td>0.340000</td>\n",
       "      <td>0.130000</td>\n",
       "      <td>0.410000</td>\n",
       "      <td>1.280000</td>\n",
       "      <td>0.480000</td>\n",
       "      <td>1.270000</td>\n",
       "      <td>278.000000</td>\n",
       "    </tr>\n",
       "    <tr>\n",
       "      <th>25%</th>\n",
       "      <td>12.362500</td>\n",
       "      <td>1.602500</td>\n",
       "      <td>2.210000</td>\n",
       "      <td>17.200000</td>\n",
       "      <td>88.000000</td>\n",
       "      <td>1.742500</td>\n",
       "      <td>1.205000</td>\n",
       "      <td>0.270000</td>\n",
       "      <td>1.250000</td>\n",
       "      <td>3.220000</td>\n",
       "      <td>0.782500</td>\n",
       "      <td>1.937500</td>\n",
       "      <td>500.500000</td>\n",
       "    </tr>\n",
       "    <tr>\n",
       "      <th>50%</th>\n",
       "      <td>13.050000</td>\n",
       "      <td>1.865000</td>\n",
       "      <td>2.360000</td>\n",
       "      <td>19.500000</td>\n",
       "      <td>98.000000</td>\n",
       "      <td>2.355000</td>\n",
       "      <td>2.135000</td>\n",
       "      <td>0.340000</td>\n",
       "      <td>1.555000</td>\n",
       "      <td>4.690000</td>\n",
       "      <td>0.965000</td>\n",
       "      <td>2.780000</td>\n",
       "      <td>673.500000</td>\n",
       "    </tr>\n",
       "    <tr>\n",
       "      <th>75%</th>\n",
       "      <td>13.677500</td>\n",
       "      <td>3.082500</td>\n",
       "      <td>2.557500</td>\n",
       "      <td>21.500000</td>\n",
       "      <td>107.000000</td>\n",
       "      <td>2.800000</td>\n",
       "      <td>2.875000</td>\n",
       "      <td>0.437500</td>\n",
       "      <td>1.950000</td>\n",
       "      <td>6.200000</td>\n",
       "      <td>1.120000</td>\n",
       "      <td>3.170000</td>\n",
       "      <td>985.000000</td>\n",
       "    </tr>\n",
       "    <tr>\n",
       "      <th>max</th>\n",
       "      <td>14.830000</td>\n",
       "      <td>5.800000</td>\n",
       "      <td>3.230000</td>\n",
       "      <td>30.000000</td>\n",
       "      <td>162.000000</td>\n",
       "      <td>3.880000</td>\n",
       "      <td>5.080000</td>\n",
       "      <td>0.660000</td>\n",
       "      <td>3.580000</td>\n",
       "      <td>13.000000</td>\n",
       "      <td>1.710000</td>\n",
       "      <td>4.000000</td>\n",
       "      <td>1680.000000</td>\n",
       "    </tr>\n",
       "  </tbody>\n",
       "</table>\n",
       "</div>"
      ],
      "text/plain": [
       "          alcohol  malic_acid         ash  alcalinity_of_ash   magnesium  \\\n",
       "count  178.000000  178.000000  178.000000         178.000000  178.000000   \n",
       "mean    13.000618    2.336348    2.366517          19.494944   99.741573   \n",
       "std      0.811827    1.117146    0.274344           3.339564   14.282484   \n",
       "min     11.030000    0.740000    1.360000          10.600000   70.000000   \n",
       "25%     12.362500    1.602500    2.210000          17.200000   88.000000   \n",
       "50%     13.050000    1.865000    2.360000          19.500000   98.000000   \n",
       "75%     13.677500    3.082500    2.557500          21.500000  107.000000   \n",
       "max     14.830000    5.800000    3.230000          30.000000  162.000000   \n",
       "\n",
       "       total_phenols  flavanoids  nonflavanoid_phenols  proanthocyanins  \\\n",
       "count     178.000000  178.000000            178.000000       178.000000   \n",
       "mean        2.295112    2.029270              0.361854         1.590899   \n",
       "std         0.625851    0.998859              0.124453         0.572359   \n",
       "min         0.980000    0.340000              0.130000         0.410000   \n",
       "25%         1.742500    1.205000              0.270000         1.250000   \n",
       "50%         2.355000    2.135000              0.340000         1.555000   \n",
       "75%         2.800000    2.875000              0.437500         1.950000   \n",
       "max         3.880000    5.080000              0.660000         3.580000   \n",
       "\n",
       "       color_intensity         hue  od280/od315_of_diluted_wines      proline  \n",
       "count       178.000000  178.000000                    178.000000   178.000000  \n",
       "mean          5.058090    0.957449                      2.611685   746.893258  \n",
       "std           2.318286    0.228572                      0.709990   314.907474  \n",
       "min           1.280000    0.480000                      1.270000   278.000000  \n",
       "25%           3.220000    0.782500                      1.937500   500.500000  \n",
       "50%           4.690000    0.965000                      2.780000   673.500000  \n",
       "75%           6.200000    1.120000                      3.170000   985.000000  \n",
       "max          13.000000    1.710000                      4.000000  1680.000000  "
      ]
     },
     "execution_count": 22,
     "metadata": {},
     "output_type": "execute_result"
    }
   ],
   "source": [
    "wine_data.describe()"
   ]
  },
  {
   "cell_type": "markdown",
   "metadata": {},
   "source": [
    "With scaling (standartization):"
   ]
  },
  {
   "cell_type": "code",
   "execution_count": 23,
   "metadata": {},
   "outputs": [
    {
     "data": {
      "text/html": [
       "<style>#sk-0b24b279-2e0d-4459-a746-7cd39d6a178a {color: black;background-color: white;}#sk-0b24b279-2e0d-4459-a746-7cd39d6a178a pre{padding: 0;}#sk-0b24b279-2e0d-4459-a746-7cd39d6a178a div.sk-toggleable {background-color: white;}#sk-0b24b279-2e0d-4459-a746-7cd39d6a178a label.sk-toggleable__label {cursor: pointer;display: block;width: 100%;margin-bottom: 0;padding: 0.3em;box-sizing: border-box;text-align: center;}#sk-0b24b279-2e0d-4459-a746-7cd39d6a178a label.sk-toggleable__label-arrow:before {content: \"▸\";float: left;margin-right: 0.25em;color: #696969;}#sk-0b24b279-2e0d-4459-a746-7cd39d6a178a label.sk-toggleable__label-arrow:hover:before {color: black;}#sk-0b24b279-2e0d-4459-a746-7cd39d6a178a div.sk-estimator:hover label.sk-toggleable__label-arrow:before {color: black;}#sk-0b24b279-2e0d-4459-a746-7cd39d6a178a div.sk-toggleable__content {max-height: 0;max-width: 0;overflow: hidden;text-align: left;background-color: #f0f8ff;}#sk-0b24b279-2e0d-4459-a746-7cd39d6a178a div.sk-toggleable__content pre {margin: 0.2em;color: black;border-radius: 0.25em;background-color: #f0f8ff;}#sk-0b24b279-2e0d-4459-a746-7cd39d6a178a input.sk-toggleable__control:checked~div.sk-toggleable__content {max-height: 200px;max-width: 100%;overflow: auto;}#sk-0b24b279-2e0d-4459-a746-7cd39d6a178a input.sk-toggleable__control:checked~label.sk-toggleable__label-arrow:before {content: \"▾\";}#sk-0b24b279-2e0d-4459-a746-7cd39d6a178a div.sk-estimator input.sk-toggleable__control:checked~label.sk-toggleable__label {background-color: #d4ebff;}#sk-0b24b279-2e0d-4459-a746-7cd39d6a178a div.sk-label input.sk-toggleable__control:checked~label.sk-toggleable__label {background-color: #d4ebff;}#sk-0b24b279-2e0d-4459-a746-7cd39d6a178a input.sk-hidden--visually {border: 0;clip: rect(1px 1px 1px 1px);clip: rect(1px, 1px, 1px, 1px);height: 1px;margin: -1px;overflow: hidden;padding: 0;position: absolute;width: 1px;}#sk-0b24b279-2e0d-4459-a746-7cd39d6a178a div.sk-estimator {font-family: monospace;background-color: #f0f8ff;border: 1px dotted black;border-radius: 0.25em;box-sizing: border-box;margin-bottom: 0.5em;}#sk-0b24b279-2e0d-4459-a746-7cd39d6a178a div.sk-estimator:hover {background-color: #d4ebff;}#sk-0b24b279-2e0d-4459-a746-7cd39d6a178a div.sk-parallel-item::after {content: \"\";width: 100%;border-bottom: 1px solid gray;flex-grow: 1;}#sk-0b24b279-2e0d-4459-a746-7cd39d6a178a div.sk-label:hover label.sk-toggleable__label {background-color: #d4ebff;}#sk-0b24b279-2e0d-4459-a746-7cd39d6a178a div.sk-serial::before {content: \"\";position: absolute;border-left: 1px solid gray;box-sizing: border-box;top: 2em;bottom: 0;left: 50%;}#sk-0b24b279-2e0d-4459-a746-7cd39d6a178a div.sk-serial {display: flex;flex-direction: column;align-items: center;background-color: white;padding-right: 0.2em;padding-left: 0.2em;}#sk-0b24b279-2e0d-4459-a746-7cd39d6a178a div.sk-item {z-index: 1;}#sk-0b24b279-2e0d-4459-a746-7cd39d6a178a div.sk-parallel {display: flex;align-items: stretch;justify-content: center;background-color: white;}#sk-0b24b279-2e0d-4459-a746-7cd39d6a178a div.sk-parallel::before {content: \"\";position: absolute;border-left: 1px solid gray;box-sizing: border-box;top: 2em;bottom: 0;left: 50%;}#sk-0b24b279-2e0d-4459-a746-7cd39d6a178a div.sk-parallel-item {display: flex;flex-direction: column;position: relative;background-color: white;}#sk-0b24b279-2e0d-4459-a746-7cd39d6a178a div.sk-parallel-item:first-child::after {align-self: flex-end;width: 50%;}#sk-0b24b279-2e0d-4459-a746-7cd39d6a178a div.sk-parallel-item:last-child::after {align-self: flex-start;width: 50%;}#sk-0b24b279-2e0d-4459-a746-7cd39d6a178a div.sk-parallel-item:only-child::after {width: 0;}#sk-0b24b279-2e0d-4459-a746-7cd39d6a178a div.sk-dashed-wrapped {border: 1px dashed gray;margin: 0 0.4em 0.5em 0.4em;box-sizing: border-box;padding-bottom: 0.4em;background-color: white;position: relative;}#sk-0b24b279-2e0d-4459-a746-7cd39d6a178a div.sk-label label {font-family: monospace;font-weight: bold;background-color: white;display: inline-block;line-height: 1.2em;}#sk-0b24b279-2e0d-4459-a746-7cd39d6a178a div.sk-label-container {position: relative;z-index: 2;text-align: center;}#sk-0b24b279-2e0d-4459-a746-7cd39d6a178a div.sk-container {/* jupyter's `normalize.less` sets `[hidden] { display: none; }` but bootstrap.min.css set `[hidden] { display: none !important; }` so we also need the `!important` here to be able to override the default hidden behavior on the sphinx rendered scikit-learn.org. See: https://github.com/scikit-learn/scikit-learn/issues/21755 */display: inline-block !important;position: relative;}#sk-0b24b279-2e0d-4459-a746-7cd39d6a178a div.sk-text-repr-fallback {display: none;}</style><div id=\"sk-0b24b279-2e0d-4459-a746-7cd39d6a178a\" class=\"sk-top-container\"><div class=\"sk-text-repr-fallback\"><pre>Pipeline(steps=[(&#x27;standardscaler&#x27;, StandardScaler()),\n",
       "                (&#x27;logisticregression&#x27;,\n",
       "                 LogisticRegression(penalty=&#x27;l1&#x27;, solver=&#x27;liblinear&#x27;))])</pre><b>Please rerun this cell to show the HTML repr or trust the notebook.</b></div><div class=\"sk-container\" hidden><div class=\"sk-item sk-dashed-wrapped\"><div class=\"sk-label-container\"><div class=\"sk-label sk-toggleable\"><input class=\"sk-toggleable__control sk-hidden--visually\" id=\"eb160104-ffee-4296-b457-7fce79cddf0a\" type=\"checkbox\" ><label for=\"eb160104-ffee-4296-b457-7fce79cddf0a\" class=\"sk-toggleable__label sk-toggleable__label-arrow\">Pipeline</label><div class=\"sk-toggleable__content\"><pre>Pipeline(steps=[(&#x27;standardscaler&#x27;, StandardScaler()),\n",
       "                (&#x27;logisticregression&#x27;,\n",
       "                 LogisticRegression(penalty=&#x27;l1&#x27;, solver=&#x27;liblinear&#x27;))])</pre></div></div></div><div class=\"sk-serial\"><div class=\"sk-item\"><div class=\"sk-estimator sk-toggleable\"><input class=\"sk-toggleable__control sk-hidden--visually\" id=\"1513d67b-cbb5-49b5-b71a-67599e5fa6fc\" type=\"checkbox\" ><label for=\"1513d67b-cbb5-49b5-b71a-67599e5fa6fc\" class=\"sk-toggleable__label sk-toggleable__label-arrow\">StandardScaler</label><div class=\"sk-toggleable__content\"><pre>StandardScaler()</pre></div></div></div><div class=\"sk-item\"><div class=\"sk-estimator sk-toggleable\"><input class=\"sk-toggleable__control sk-hidden--visually\" id=\"ccaa8c7d-6bc0-4ff1-9b3f-6c7086fd9089\" type=\"checkbox\" ><label for=\"ccaa8c7d-6bc0-4ff1-9b3f-6c7086fd9089\" class=\"sk-toggleable__label sk-toggleable__label-arrow\">LogisticRegression</label><div class=\"sk-toggleable__content\"><pre>LogisticRegression(penalty=&#x27;l1&#x27;, solver=&#x27;liblinear&#x27;)</pre></div></div></div></div></div></div></div>"
      ],
      "text/plain": [
       "Pipeline(steps=[('standardscaler', StandardScaler()),\n",
       "                ('logisticregression',\n",
       "                 LogisticRegression(penalty='l1', solver='liblinear'))])"
      ]
     },
     "metadata": {},
     "output_type": "display_data"
    },
    {
     "name": "stdout",
     "output_type": "stream",
     "text": [
      "Test accuracy: 0.9814814814814815\n"
     ]
    }
   ],
   "source": [
    "model_st_sc = make_pipeline(StandardScaler(), regressor)\n",
    "display(model_st_sc)\n",
    "model_st_sc.fit(wine_train, wine_labels_train)\n",
    "y_pred = model_st_sc.predict(wine_val)\n",
    "acc_st_scaler = accuracy_score(wine_labels_val, y_pred)\n",
    "print(f'Test accuracy: {acc_st_scaler}')"
   ]
  },
  {
   "cell_type": "markdown",
   "metadata": {},
   "source": [
    "With scaling (normalization):"
   ]
  },
  {
   "cell_type": "code",
   "execution_count": 24,
   "metadata": {},
   "outputs": [
    {
     "data": {
      "text/html": [
       "<style>#sk-9ba3dff3-13ec-4ef3-b1ce-5079c306ec5a {color: black;background-color: white;}#sk-9ba3dff3-13ec-4ef3-b1ce-5079c306ec5a pre{padding: 0;}#sk-9ba3dff3-13ec-4ef3-b1ce-5079c306ec5a div.sk-toggleable {background-color: white;}#sk-9ba3dff3-13ec-4ef3-b1ce-5079c306ec5a label.sk-toggleable__label {cursor: pointer;display: block;width: 100%;margin-bottom: 0;padding: 0.3em;box-sizing: border-box;text-align: center;}#sk-9ba3dff3-13ec-4ef3-b1ce-5079c306ec5a label.sk-toggleable__label-arrow:before {content: \"▸\";float: left;margin-right: 0.25em;color: #696969;}#sk-9ba3dff3-13ec-4ef3-b1ce-5079c306ec5a label.sk-toggleable__label-arrow:hover:before {color: black;}#sk-9ba3dff3-13ec-4ef3-b1ce-5079c306ec5a div.sk-estimator:hover label.sk-toggleable__label-arrow:before {color: black;}#sk-9ba3dff3-13ec-4ef3-b1ce-5079c306ec5a div.sk-toggleable__content {max-height: 0;max-width: 0;overflow: hidden;text-align: left;background-color: #f0f8ff;}#sk-9ba3dff3-13ec-4ef3-b1ce-5079c306ec5a div.sk-toggleable__content pre {margin: 0.2em;color: black;border-radius: 0.25em;background-color: #f0f8ff;}#sk-9ba3dff3-13ec-4ef3-b1ce-5079c306ec5a input.sk-toggleable__control:checked~div.sk-toggleable__content {max-height: 200px;max-width: 100%;overflow: auto;}#sk-9ba3dff3-13ec-4ef3-b1ce-5079c306ec5a input.sk-toggleable__control:checked~label.sk-toggleable__label-arrow:before {content: \"▾\";}#sk-9ba3dff3-13ec-4ef3-b1ce-5079c306ec5a div.sk-estimator input.sk-toggleable__control:checked~label.sk-toggleable__label {background-color: #d4ebff;}#sk-9ba3dff3-13ec-4ef3-b1ce-5079c306ec5a div.sk-label input.sk-toggleable__control:checked~label.sk-toggleable__label {background-color: #d4ebff;}#sk-9ba3dff3-13ec-4ef3-b1ce-5079c306ec5a input.sk-hidden--visually {border: 0;clip: rect(1px 1px 1px 1px);clip: rect(1px, 1px, 1px, 1px);height: 1px;margin: -1px;overflow: hidden;padding: 0;position: absolute;width: 1px;}#sk-9ba3dff3-13ec-4ef3-b1ce-5079c306ec5a div.sk-estimator {font-family: monospace;background-color: #f0f8ff;border: 1px dotted black;border-radius: 0.25em;box-sizing: border-box;margin-bottom: 0.5em;}#sk-9ba3dff3-13ec-4ef3-b1ce-5079c306ec5a div.sk-estimator:hover {background-color: #d4ebff;}#sk-9ba3dff3-13ec-4ef3-b1ce-5079c306ec5a div.sk-parallel-item::after {content: \"\";width: 100%;border-bottom: 1px solid gray;flex-grow: 1;}#sk-9ba3dff3-13ec-4ef3-b1ce-5079c306ec5a div.sk-label:hover label.sk-toggleable__label {background-color: #d4ebff;}#sk-9ba3dff3-13ec-4ef3-b1ce-5079c306ec5a div.sk-serial::before {content: \"\";position: absolute;border-left: 1px solid gray;box-sizing: border-box;top: 2em;bottom: 0;left: 50%;}#sk-9ba3dff3-13ec-4ef3-b1ce-5079c306ec5a div.sk-serial {display: flex;flex-direction: column;align-items: center;background-color: white;padding-right: 0.2em;padding-left: 0.2em;}#sk-9ba3dff3-13ec-4ef3-b1ce-5079c306ec5a div.sk-item {z-index: 1;}#sk-9ba3dff3-13ec-4ef3-b1ce-5079c306ec5a div.sk-parallel {display: flex;align-items: stretch;justify-content: center;background-color: white;}#sk-9ba3dff3-13ec-4ef3-b1ce-5079c306ec5a div.sk-parallel::before {content: \"\";position: absolute;border-left: 1px solid gray;box-sizing: border-box;top: 2em;bottom: 0;left: 50%;}#sk-9ba3dff3-13ec-4ef3-b1ce-5079c306ec5a div.sk-parallel-item {display: flex;flex-direction: column;position: relative;background-color: white;}#sk-9ba3dff3-13ec-4ef3-b1ce-5079c306ec5a div.sk-parallel-item:first-child::after {align-self: flex-end;width: 50%;}#sk-9ba3dff3-13ec-4ef3-b1ce-5079c306ec5a div.sk-parallel-item:last-child::after {align-self: flex-start;width: 50%;}#sk-9ba3dff3-13ec-4ef3-b1ce-5079c306ec5a div.sk-parallel-item:only-child::after {width: 0;}#sk-9ba3dff3-13ec-4ef3-b1ce-5079c306ec5a div.sk-dashed-wrapped {border: 1px dashed gray;margin: 0 0.4em 0.5em 0.4em;box-sizing: border-box;padding-bottom: 0.4em;background-color: white;position: relative;}#sk-9ba3dff3-13ec-4ef3-b1ce-5079c306ec5a div.sk-label label {font-family: monospace;font-weight: bold;background-color: white;display: inline-block;line-height: 1.2em;}#sk-9ba3dff3-13ec-4ef3-b1ce-5079c306ec5a div.sk-label-container {position: relative;z-index: 2;text-align: center;}#sk-9ba3dff3-13ec-4ef3-b1ce-5079c306ec5a div.sk-container {/* jupyter's `normalize.less` sets `[hidden] { display: none; }` but bootstrap.min.css set `[hidden] { display: none !important; }` so we also need the `!important` here to be able to override the default hidden behavior on the sphinx rendered scikit-learn.org. See: https://github.com/scikit-learn/scikit-learn/issues/21755 */display: inline-block !important;position: relative;}#sk-9ba3dff3-13ec-4ef3-b1ce-5079c306ec5a div.sk-text-repr-fallback {display: none;}</style><div id=\"sk-9ba3dff3-13ec-4ef3-b1ce-5079c306ec5a\" class=\"sk-top-container\"><div class=\"sk-text-repr-fallback\"><pre>Pipeline(steps=[(&#x27;minmaxscaler&#x27;, MinMaxScaler()),\n",
       "                (&#x27;logisticregression&#x27;,\n",
       "                 LogisticRegression(penalty=&#x27;l1&#x27;, solver=&#x27;liblinear&#x27;))])</pre><b>Please rerun this cell to show the HTML repr or trust the notebook.</b></div><div class=\"sk-container\" hidden><div class=\"sk-item sk-dashed-wrapped\"><div class=\"sk-label-container\"><div class=\"sk-label sk-toggleable\"><input class=\"sk-toggleable__control sk-hidden--visually\" id=\"14e2dcab-3f7c-4bdd-ba84-b97501b343b0\" type=\"checkbox\" ><label for=\"14e2dcab-3f7c-4bdd-ba84-b97501b343b0\" class=\"sk-toggleable__label sk-toggleable__label-arrow\">Pipeline</label><div class=\"sk-toggleable__content\"><pre>Pipeline(steps=[(&#x27;minmaxscaler&#x27;, MinMaxScaler()),\n",
       "                (&#x27;logisticregression&#x27;,\n",
       "                 LogisticRegression(penalty=&#x27;l1&#x27;, solver=&#x27;liblinear&#x27;))])</pre></div></div></div><div class=\"sk-serial\"><div class=\"sk-item\"><div class=\"sk-estimator sk-toggleable\"><input class=\"sk-toggleable__control sk-hidden--visually\" id=\"6bebdeec-4df9-4bce-a27e-cbf6e61d3863\" type=\"checkbox\" ><label for=\"6bebdeec-4df9-4bce-a27e-cbf6e61d3863\" class=\"sk-toggleable__label sk-toggleable__label-arrow\">MinMaxScaler</label><div class=\"sk-toggleable__content\"><pre>MinMaxScaler()</pre></div></div></div><div class=\"sk-item\"><div class=\"sk-estimator sk-toggleable\"><input class=\"sk-toggleable__control sk-hidden--visually\" id=\"6ec9f062-a567-429c-873b-94df7da8413b\" type=\"checkbox\" ><label for=\"6ec9f062-a567-429c-873b-94df7da8413b\" class=\"sk-toggleable__label sk-toggleable__label-arrow\">LogisticRegression</label><div class=\"sk-toggleable__content\"><pre>LogisticRegression(penalty=&#x27;l1&#x27;, solver=&#x27;liblinear&#x27;)</pre></div></div></div></div></div></div></div>"
      ],
      "text/plain": [
       "Pipeline(steps=[('minmaxscaler', MinMaxScaler()),\n",
       "                ('logisticregression',\n",
       "                 LogisticRegression(penalty='l1', solver='liblinear'))])"
      ]
     },
     "metadata": {},
     "output_type": "display_data"
    },
    {
     "name": "stdout",
     "output_type": "stream",
     "text": [
      "Test accuracy: 1.0\n"
     ]
    }
   ],
   "source": [
    "model_mm_sc = make_pipeline(MinMaxScaler(), regressor)\n",
    "display(model_mm_sc)\n",
    "model_mm_sc.fit(wine_train, wine_labels_train)\n",
    "y_pred = model_mm_sc.predict(wine_val)\n",
    "acc_mm_scaler = accuracy_score(wine_labels_val, y_pred)\n",
    "print(f'Test accuracy: {acc_mm_scaler}')"
   ]
  },
  {
   "cell_type": "code",
   "execution_count": 25,
   "metadata": {},
   "outputs": [
    {
     "data": {
      "text/html": [
       "<div>\n",
       "<style scoped>\n",
       "    .dataframe tbody tr th:only-of-type {\n",
       "        vertical-align: middle;\n",
       "    }\n",
       "\n",
       "    .dataframe tbody tr th {\n",
       "        vertical-align: top;\n",
       "    }\n",
       "\n",
       "    .dataframe thead th {\n",
       "        text-align: right;\n",
       "    }\n",
       "</style>\n",
       "<table border=\"1\" class=\"dataframe\">\n",
       "  <thead>\n",
       "    <tr style=\"text-align: right;\">\n",
       "      <th></th>\n",
       "      <th>0</th>\n",
       "      <th>1</th>\n",
       "      <th>2</th>\n",
       "      <th>3</th>\n",
       "      <th>4</th>\n",
       "      <th>5</th>\n",
       "      <th>6</th>\n",
       "      <th>7</th>\n",
       "      <th>8</th>\n",
       "      <th>9</th>\n",
       "      <th>10</th>\n",
       "      <th>11</th>\n",
       "      <th>12</th>\n",
       "    </tr>\n",
       "  </thead>\n",
       "  <tbody>\n",
       "    <tr>\n",
       "      <th>count</th>\n",
       "      <td>178.000000</td>\n",
       "      <td>178.000000</td>\n",
       "      <td>178.000000</td>\n",
       "      <td>178.000000</td>\n",
       "      <td>178.000000</td>\n",
       "      <td>178.000000</td>\n",
       "      <td>178.000000</td>\n",
       "      <td>178.000000</td>\n",
       "      <td>178.000000</td>\n",
       "      <td>178.000000</td>\n",
       "      <td>178.000000</td>\n",
       "      <td>178.000000</td>\n",
       "      <td>178.000000</td>\n",
       "    </tr>\n",
       "    <tr>\n",
       "      <th>mean</th>\n",
       "      <td>0.518584</td>\n",
       "      <td>0.315484</td>\n",
       "      <td>0.538244</td>\n",
       "      <td>0.458502</td>\n",
       "      <td>0.323278</td>\n",
       "      <td>0.453487</td>\n",
       "      <td>0.356386</td>\n",
       "      <td>0.437460</td>\n",
       "      <td>0.372523</td>\n",
       "      <td>0.322363</td>\n",
       "      <td>0.388170</td>\n",
       "      <td>0.491460</td>\n",
       "      <td>0.334446</td>\n",
       "    </tr>\n",
       "    <tr>\n",
       "      <th>std</th>\n",
       "      <td>0.213639</td>\n",
       "      <td>0.220780</td>\n",
       "      <td>0.146708</td>\n",
       "      <td>0.172142</td>\n",
       "      <td>0.155244</td>\n",
       "      <td>0.215811</td>\n",
       "      <td>0.210730</td>\n",
       "      <td>0.234818</td>\n",
       "      <td>0.180555</td>\n",
       "      <td>0.197806</td>\n",
       "      <td>0.185831</td>\n",
       "      <td>0.260070</td>\n",
       "      <td>0.224613</td>\n",
       "    </tr>\n",
       "    <tr>\n",
       "      <th>min</th>\n",
       "      <td>0.000000</td>\n",
       "      <td>0.000000</td>\n",
       "      <td>0.000000</td>\n",
       "      <td>0.000000</td>\n",
       "      <td>0.000000</td>\n",
       "      <td>0.000000</td>\n",
       "      <td>0.000000</td>\n",
       "      <td>0.000000</td>\n",
       "      <td>0.000000</td>\n",
       "      <td>0.000000</td>\n",
       "      <td>0.000000</td>\n",
       "      <td>0.000000</td>\n",
       "      <td>0.000000</td>\n",
       "    </tr>\n",
       "    <tr>\n",
       "      <th>25%</th>\n",
       "      <td>0.350658</td>\n",
       "      <td>0.170455</td>\n",
       "      <td>0.454545</td>\n",
       "      <td>0.340206</td>\n",
       "      <td>0.195652</td>\n",
       "      <td>0.262931</td>\n",
       "      <td>0.182489</td>\n",
       "      <td>0.264151</td>\n",
       "      <td>0.264984</td>\n",
       "      <td>0.165529</td>\n",
       "      <td>0.245935</td>\n",
       "      <td>0.244505</td>\n",
       "      <td>0.158702</td>\n",
       "    </tr>\n",
       "    <tr>\n",
       "      <th>50%</th>\n",
       "      <td>0.531579</td>\n",
       "      <td>0.222332</td>\n",
       "      <td>0.534759</td>\n",
       "      <td>0.458763</td>\n",
       "      <td>0.304348</td>\n",
       "      <td>0.474138</td>\n",
       "      <td>0.378692</td>\n",
       "      <td>0.396226</td>\n",
       "      <td>0.361199</td>\n",
       "      <td>0.290956</td>\n",
       "      <td>0.394309</td>\n",
       "      <td>0.553114</td>\n",
       "      <td>0.282097</td>\n",
       "    </tr>\n",
       "    <tr>\n",
       "      <th>75%</th>\n",
       "      <td>0.696711</td>\n",
       "      <td>0.462945</td>\n",
       "      <td>0.640374</td>\n",
       "      <td>0.561856</td>\n",
       "      <td>0.402174</td>\n",
       "      <td>0.627586</td>\n",
       "      <td>0.534810</td>\n",
       "      <td>0.580189</td>\n",
       "      <td>0.485804</td>\n",
       "      <td>0.419795</td>\n",
       "      <td>0.520325</td>\n",
       "      <td>0.695971</td>\n",
       "      <td>0.504280</td>\n",
       "    </tr>\n",
       "    <tr>\n",
       "      <th>max</th>\n",
       "      <td>1.000000</td>\n",
       "      <td>1.000000</td>\n",
       "      <td>1.000000</td>\n",
       "      <td>1.000000</td>\n",
       "      <td>1.000000</td>\n",
       "      <td>1.000000</td>\n",
       "      <td>1.000000</td>\n",
       "      <td>1.000000</td>\n",
       "      <td>1.000000</td>\n",
       "      <td>1.000000</td>\n",
       "      <td>1.000000</td>\n",
       "      <td>1.000000</td>\n",
       "      <td>1.000000</td>\n",
       "    </tr>\n",
       "  </tbody>\n",
       "</table>\n",
       "</div>"
      ],
      "text/plain": [
       "               0           1           2           3           4           5   \\\n",
       "count  178.000000  178.000000  178.000000  178.000000  178.000000  178.000000   \n",
       "mean     0.518584    0.315484    0.538244    0.458502    0.323278    0.453487   \n",
       "std      0.213639    0.220780    0.146708    0.172142    0.155244    0.215811   \n",
       "min      0.000000    0.000000    0.000000    0.000000    0.000000    0.000000   \n",
       "25%      0.350658    0.170455    0.454545    0.340206    0.195652    0.262931   \n",
       "50%      0.531579    0.222332    0.534759    0.458763    0.304348    0.474138   \n",
       "75%      0.696711    0.462945    0.640374    0.561856    0.402174    0.627586   \n",
       "max      1.000000    1.000000    1.000000    1.000000    1.000000    1.000000   \n",
       "\n",
       "               6           7           8           9           10          11  \\\n",
       "count  178.000000  178.000000  178.000000  178.000000  178.000000  178.000000   \n",
       "mean     0.356386    0.437460    0.372523    0.322363    0.388170    0.491460   \n",
       "std      0.210730    0.234818    0.180555    0.197806    0.185831    0.260070   \n",
       "min      0.000000    0.000000    0.000000    0.000000    0.000000    0.000000   \n",
       "25%      0.182489    0.264151    0.264984    0.165529    0.245935    0.244505   \n",
       "50%      0.378692    0.396226    0.361199    0.290956    0.394309    0.553114   \n",
       "75%      0.534810    0.580189    0.485804    0.419795    0.520325    0.695971   \n",
       "max      1.000000    1.000000    1.000000    1.000000    1.000000    1.000000   \n",
       "\n",
       "               12  \n",
       "count  178.000000  \n",
       "mean     0.334446  \n",
       "std      0.224613  \n",
       "min      0.000000  \n",
       "25%      0.158702  \n",
       "50%      0.282097  \n",
       "75%      0.504280  \n",
       "max      1.000000  "
      ]
     },
     "execution_count": 25,
     "metadata": {},
     "output_type": "execute_result"
    }
   ],
   "source": [
    "pd.DataFrame(mm_scaler.fit_transform(wine_data)).describe()"
   ]
  },
  {
   "cell_type": "markdown",
   "metadata": {},
   "source": [
    "All our features follow the bell curve distribution, so we don't have to use Log/Power Transform.\n",
    "\n",
    "Let's select features with `RandomForestClassifier` and look if it will rise the accuracy of the model with `StandardScaler`:"
   ]
  },
  {
   "cell_type": "code",
   "execution_count": 26,
   "metadata": {},
   "outputs": [
    {
     "data": {
      "text/html": [
       "<style>#sk-2be8f63b-9a52-4198-82b7-38c1eb6a4afd {color: black;background-color: white;}#sk-2be8f63b-9a52-4198-82b7-38c1eb6a4afd pre{padding: 0;}#sk-2be8f63b-9a52-4198-82b7-38c1eb6a4afd div.sk-toggleable {background-color: white;}#sk-2be8f63b-9a52-4198-82b7-38c1eb6a4afd label.sk-toggleable__label {cursor: pointer;display: block;width: 100%;margin-bottom: 0;padding: 0.3em;box-sizing: border-box;text-align: center;}#sk-2be8f63b-9a52-4198-82b7-38c1eb6a4afd label.sk-toggleable__label-arrow:before {content: \"▸\";float: left;margin-right: 0.25em;color: #696969;}#sk-2be8f63b-9a52-4198-82b7-38c1eb6a4afd label.sk-toggleable__label-arrow:hover:before {color: black;}#sk-2be8f63b-9a52-4198-82b7-38c1eb6a4afd div.sk-estimator:hover label.sk-toggleable__label-arrow:before {color: black;}#sk-2be8f63b-9a52-4198-82b7-38c1eb6a4afd div.sk-toggleable__content {max-height: 0;max-width: 0;overflow: hidden;text-align: left;background-color: #f0f8ff;}#sk-2be8f63b-9a52-4198-82b7-38c1eb6a4afd div.sk-toggleable__content pre {margin: 0.2em;color: black;border-radius: 0.25em;background-color: #f0f8ff;}#sk-2be8f63b-9a52-4198-82b7-38c1eb6a4afd input.sk-toggleable__control:checked~div.sk-toggleable__content {max-height: 200px;max-width: 100%;overflow: auto;}#sk-2be8f63b-9a52-4198-82b7-38c1eb6a4afd input.sk-toggleable__control:checked~label.sk-toggleable__label-arrow:before {content: \"▾\";}#sk-2be8f63b-9a52-4198-82b7-38c1eb6a4afd div.sk-estimator input.sk-toggleable__control:checked~label.sk-toggleable__label {background-color: #d4ebff;}#sk-2be8f63b-9a52-4198-82b7-38c1eb6a4afd div.sk-label input.sk-toggleable__control:checked~label.sk-toggleable__label {background-color: #d4ebff;}#sk-2be8f63b-9a52-4198-82b7-38c1eb6a4afd input.sk-hidden--visually {border: 0;clip: rect(1px 1px 1px 1px);clip: rect(1px, 1px, 1px, 1px);height: 1px;margin: -1px;overflow: hidden;padding: 0;position: absolute;width: 1px;}#sk-2be8f63b-9a52-4198-82b7-38c1eb6a4afd div.sk-estimator {font-family: monospace;background-color: #f0f8ff;border: 1px dotted black;border-radius: 0.25em;box-sizing: border-box;margin-bottom: 0.5em;}#sk-2be8f63b-9a52-4198-82b7-38c1eb6a4afd div.sk-estimator:hover {background-color: #d4ebff;}#sk-2be8f63b-9a52-4198-82b7-38c1eb6a4afd div.sk-parallel-item::after {content: \"\";width: 100%;border-bottom: 1px solid gray;flex-grow: 1;}#sk-2be8f63b-9a52-4198-82b7-38c1eb6a4afd div.sk-label:hover label.sk-toggleable__label {background-color: #d4ebff;}#sk-2be8f63b-9a52-4198-82b7-38c1eb6a4afd div.sk-serial::before {content: \"\";position: absolute;border-left: 1px solid gray;box-sizing: border-box;top: 2em;bottom: 0;left: 50%;}#sk-2be8f63b-9a52-4198-82b7-38c1eb6a4afd div.sk-serial {display: flex;flex-direction: column;align-items: center;background-color: white;padding-right: 0.2em;padding-left: 0.2em;}#sk-2be8f63b-9a52-4198-82b7-38c1eb6a4afd div.sk-item {z-index: 1;}#sk-2be8f63b-9a52-4198-82b7-38c1eb6a4afd div.sk-parallel {display: flex;align-items: stretch;justify-content: center;background-color: white;}#sk-2be8f63b-9a52-4198-82b7-38c1eb6a4afd div.sk-parallel::before {content: \"\";position: absolute;border-left: 1px solid gray;box-sizing: border-box;top: 2em;bottom: 0;left: 50%;}#sk-2be8f63b-9a52-4198-82b7-38c1eb6a4afd div.sk-parallel-item {display: flex;flex-direction: column;position: relative;background-color: white;}#sk-2be8f63b-9a52-4198-82b7-38c1eb6a4afd div.sk-parallel-item:first-child::after {align-self: flex-end;width: 50%;}#sk-2be8f63b-9a52-4198-82b7-38c1eb6a4afd div.sk-parallel-item:last-child::after {align-self: flex-start;width: 50%;}#sk-2be8f63b-9a52-4198-82b7-38c1eb6a4afd div.sk-parallel-item:only-child::after {width: 0;}#sk-2be8f63b-9a52-4198-82b7-38c1eb6a4afd div.sk-dashed-wrapped {border: 1px dashed gray;margin: 0 0.4em 0.5em 0.4em;box-sizing: border-box;padding-bottom: 0.4em;background-color: white;position: relative;}#sk-2be8f63b-9a52-4198-82b7-38c1eb6a4afd div.sk-label label {font-family: monospace;font-weight: bold;background-color: white;display: inline-block;line-height: 1.2em;}#sk-2be8f63b-9a52-4198-82b7-38c1eb6a4afd div.sk-label-container {position: relative;z-index: 2;text-align: center;}#sk-2be8f63b-9a52-4198-82b7-38c1eb6a4afd div.sk-container {/* jupyter's `normalize.less` sets `[hidden] { display: none; }` but bootstrap.min.css set `[hidden] { display: none !important; }` so we also need the `!important` here to be able to override the default hidden behavior on the sphinx rendered scikit-learn.org. See: https://github.com/scikit-learn/scikit-learn/issues/21755 */display: inline-block !important;position: relative;}#sk-2be8f63b-9a52-4198-82b7-38c1eb6a4afd div.sk-text-repr-fallback {display: none;}</style><div id=\"sk-2be8f63b-9a52-4198-82b7-38c1eb6a4afd\" class=\"sk-top-container\"><div class=\"sk-text-repr-fallback\"><pre>Pipeline(steps=[(&#x27;standardscaler&#x27;, StandardScaler()),\n",
       "                (&#x27;selectfrommodel&#x27;,\n",
       "                 SelectFromModel(estimator=RandomForestClassifier(random_state=42))),\n",
       "                (&#x27;logisticregression&#x27;,\n",
       "                 LogisticRegression(penalty=&#x27;l1&#x27;, solver=&#x27;liblinear&#x27;))])</pre><b>Please rerun this cell to show the HTML repr or trust the notebook.</b></div><div class=\"sk-container\" hidden><div class=\"sk-item sk-dashed-wrapped\"><div class=\"sk-label-container\"><div class=\"sk-label sk-toggleable\"><input class=\"sk-toggleable__control sk-hidden--visually\" id=\"1a628aca-3e84-4012-ac88-2819db89ceb0\" type=\"checkbox\" ><label for=\"1a628aca-3e84-4012-ac88-2819db89ceb0\" class=\"sk-toggleable__label sk-toggleable__label-arrow\">Pipeline</label><div class=\"sk-toggleable__content\"><pre>Pipeline(steps=[(&#x27;standardscaler&#x27;, StandardScaler()),\n",
       "                (&#x27;selectfrommodel&#x27;,\n",
       "                 SelectFromModel(estimator=RandomForestClassifier(random_state=42))),\n",
       "                (&#x27;logisticregression&#x27;,\n",
       "                 LogisticRegression(penalty=&#x27;l1&#x27;, solver=&#x27;liblinear&#x27;))])</pre></div></div></div><div class=\"sk-serial\"><div class=\"sk-item\"><div class=\"sk-estimator sk-toggleable\"><input class=\"sk-toggleable__control sk-hidden--visually\" id=\"9fc5998d-f872-4b77-ba78-d86d29d3facc\" type=\"checkbox\" ><label for=\"9fc5998d-f872-4b77-ba78-d86d29d3facc\" class=\"sk-toggleable__label sk-toggleable__label-arrow\">StandardScaler</label><div class=\"sk-toggleable__content\"><pre>StandardScaler()</pre></div></div></div><div class=\"sk-item sk-dashed-wrapped\"><div class=\"sk-label-container\"><div class=\"sk-label sk-toggleable\"><input class=\"sk-toggleable__control sk-hidden--visually\" id=\"c581f470-47d8-4a2a-855e-e5d94a522934\" type=\"checkbox\" ><label for=\"c581f470-47d8-4a2a-855e-e5d94a522934\" class=\"sk-toggleable__label sk-toggleable__label-arrow\">selectfrommodel: SelectFromModel</label><div class=\"sk-toggleable__content\"><pre>SelectFromModel(estimator=RandomForestClassifier(random_state=42))</pre></div></div></div><div class=\"sk-parallel\"><div class=\"sk-parallel-item\"><div class=\"sk-item\"><div class=\"sk-serial\"><div class=\"sk-item\"><div class=\"sk-estimator sk-toggleable\"><input class=\"sk-toggleable__control sk-hidden--visually\" id=\"b4f51b00-fcc3-4028-808a-8962b0e76b4a\" type=\"checkbox\" ><label for=\"b4f51b00-fcc3-4028-808a-8962b0e76b4a\" class=\"sk-toggleable__label sk-toggleable__label-arrow\">RandomForestClassifier</label><div class=\"sk-toggleable__content\"><pre>RandomForestClassifier(random_state=42)</pre></div></div></div></div></div></div></div></div><div class=\"sk-item\"><div class=\"sk-estimator sk-toggleable\"><input class=\"sk-toggleable__control sk-hidden--visually\" id=\"79ee25dc-a51f-4f3e-8c38-93edefc85c71\" type=\"checkbox\" ><label for=\"79ee25dc-a51f-4f3e-8c38-93edefc85c71\" class=\"sk-toggleable__label sk-toggleable__label-arrow\">LogisticRegression</label><div class=\"sk-toggleable__content\"><pre>LogisticRegression(penalty=&#x27;l1&#x27;, solver=&#x27;liblinear&#x27;)</pre></div></div></div></div></div></div></div>"
      ],
      "text/plain": [
       "Pipeline(steps=[('standardscaler', StandardScaler()),\n",
       "                ('selectfrommodel',\n",
       "                 SelectFromModel(estimator=RandomForestClassifier(random_state=42))),\n",
       "                ('logisticregression',\n",
       "                 LogisticRegression(penalty='l1', solver='liblinear'))])"
      ]
     },
     "metadata": {},
     "output_type": "display_data"
    },
    {
     "name": "stdout",
     "output_type": "stream",
     "text": [
      "Test accuracy: 1.0\n"
     ]
    }
   ],
   "source": [
    "selection_model = RandomForestClassifier(random_state=42)\n",
    "model_sel = make_pipeline(StandardScaler(), SelectFromModel(selection_model), regressor)\n",
    "display(model_sel)\n",
    "model_sel.fit(wine_train, wine_labels_train)\n",
    "y_pred = model_sel.predict(wine_val)\n",
    "acc_selestor_st_scaler = accuracy_score(wine_labels_val, y_pred)\n",
    "print(f'Test accuracy: {acc_selestor_st_scaler}')"
   ]
  },
  {
   "cell_type": "code",
   "execution_count": 27,
   "metadata": {},
   "outputs": [
    {
     "name": "stdout",
     "output_type": "stream",
     "text": [
      "Selected columns: ['alcohol', 'flavanoids', 'color_intensity', 'hue', 'od280/od315_of_diluted_wines', 'proline']\n",
      "Original shape: (178, 13)\n",
      "Shape after selection: (178, 6)\n"
     ]
    }
   ],
   "source": [
    "selector = SelectFromModel(selection_model).fit(wine_train, wine_labels_train)\n",
    "wine_data_pruned = selector.transform(wine_data)\n",
    "print(f'Selected columns: {wine_data.columns[selector.get_support()].tolist()}')\n",
    "print(f'Original shape: {wine_data.shape}')\n",
    "print(f'Shape after selection: {wine_data_pruned.shape}')"
   ]
  },
  {
   "cell_type": "markdown",
   "metadata": {},
   "source": [
    "Let's select features with `VarianceTreshold`:"
   ]
  },
  {
   "cell_type": "code",
   "execution_count": 28,
   "metadata": {},
   "outputs": [
    {
     "data": {
      "text/html": [
       "<style>#sk-de64b2b6-8e59-407c-8ae2-a70ba0f1a8c8 {color: black;background-color: white;}#sk-de64b2b6-8e59-407c-8ae2-a70ba0f1a8c8 pre{padding: 0;}#sk-de64b2b6-8e59-407c-8ae2-a70ba0f1a8c8 div.sk-toggleable {background-color: white;}#sk-de64b2b6-8e59-407c-8ae2-a70ba0f1a8c8 label.sk-toggleable__label {cursor: pointer;display: block;width: 100%;margin-bottom: 0;padding: 0.3em;box-sizing: border-box;text-align: center;}#sk-de64b2b6-8e59-407c-8ae2-a70ba0f1a8c8 label.sk-toggleable__label-arrow:before {content: \"▸\";float: left;margin-right: 0.25em;color: #696969;}#sk-de64b2b6-8e59-407c-8ae2-a70ba0f1a8c8 label.sk-toggleable__label-arrow:hover:before {color: black;}#sk-de64b2b6-8e59-407c-8ae2-a70ba0f1a8c8 div.sk-estimator:hover label.sk-toggleable__label-arrow:before {color: black;}#sk-de64b2b6-8e59-407c-8ae2-a70ba0f1a8c8 div.sk-toggleable__content {max-height: 0;max-width: 0;overflow: hidden;text-align: left;background-color: #f0f8ff;}#sk-de64b2b6-8e59-407c-8ae2-a70ba0f1a8c8 div.sk-toggleable__content pre {margin: 0.2em;color: black;border-radius: 0.25em;background-color: #f0f8ff;}#sk-de64b2b6-8e59-407c-8ae2-a70ba0f1a8c8 input.sk-toggleable__control:checked~div.sk-toggleable__content {max-height: 200px;max-width: 100%;overflow: auto;}#sk-de64b2b6-8e59-407c-8ae2-a70ba0f1a8c8 input.sk-toggleable__control:checked~label.sk-toggleable__label-arrow:before {content: \"▾\";}#sk-de64b2b6-8e59-407c-8ae2-a70ba0f1a8c8 div.sk-estimator input.sk-toggleable__control:checked~label.sk-toggleable__label {background-color: #d4ebff;}#sk-de64b2b6-8e59-407c-8ae2-a70ba0f1a8c8 div.sk-label input.sk-toggleable__control:checked~label.sk-toggleable__label {background-color: #d4ebff;}#sk-de64b2b6-8e59-407c-8ae2-a70ba0f1a8c8 input.sk-hidden--visually {border: 0;clip: rect(1px 1px 1px 1px);clip: rect(1px, 1px, 1px, 1px);height: 1px;margin: -1px;overflow: hidden;padding: 0;position: absolute;width: 1px;}#sk-de64b2b6-8e59-407c-8ae2-a70ba0f1a8c8 div.sk-estimator {font-family: monospace;background-color: #f0f8ff;border: 1px dotted black;border-radius: 0.25em;box-sizing: border-box;margin-bottom: 0.5em;}#sk-de64b2b6-8e59-407c-8ae2-a70ba0f1a8c8 div.sk-estimator:hover {background-color: #d4ebff;}#sk-de64b2b6-8e59-407c-8ae2-a70ba0f1a8c8 div.sk-parallel-item::after {content: \"\";width: 100%;border-bottom: 1px solid gray;flex-grow: 1;}#sk-de64b2b6-8e59-407c-8ae2-a70ba0f1a8c8 div.sk-label:hover label.sk-toggleable__label {background-color: #d4ebff;}#sk-de64b2b6-8e59-407c-8ae2-a70ba0f1a8c8 div.sk-serial::before {content: \"\";position: absolute;border-left: 1px solid gray;box-sizing: border-box;top: 2em;bottom: 0;left: 50%;}#sk-de64b2b6-8e59-407c-8ae2-a70ba0f1a8c8 div.sk-serial {display: flex;flex-direction: column;align-items: center;background-color: white;padding-right: 0.2em;padding-left: 0.2em;}#sk-de64b2b6-8e59-407c-8ae2-a70ba0f1a8c8 div.sk-item {z-index: 1;}#sk-de64b2b6-8e59-407c-8ae2-a70ba0f1a8c8 div.sk-parallel {display: flex;align-items: stretch;justify-content: center;background-color: white;}#sk-de64b2b6-8e59-407c-8ae2-a70ba0f1a8c8 div.sk-parallel::before {content: \"\";position: absolute;border-left: 1px solid gray;box-sizing: border-box;top: 2em;bottom: 0;left: 50%;}#sk-de64b2b6-8e59-407c-8ae2-a70ba0f1a8c8 div.sk-parallel-item {display: flex;flex-direction: column;position: relative;background-color: white;}#sk-de64b2b6-8e59-407c-8ae2-a70ba0f1a8c8 div.sk-parallel-item:first-child::after {align-self: flex-end;width: 50%;}#sk-de64b2b6-8e59-407c-8ae2-a70ba0f1a8c8 div.sk-parallel-item:last-child::after {align-self: flex-start;width: 50%;}#sk-de64b2b6-8e59-407c-8ae2-a70ba0f1a8c8 div.sk-parallel-item:only-child::after {width: 0;}#sk-de64b2b6-8e59-407c-8ae2-a70ba0f1a8c8 div.sk-dashed-wrapped {border: 1px dashed gray;margin: 0 0.4em 0.5em 0.4em;box-sizing: border-box;padding-bottom: 0.4em;background-color: white;position: relative;}#sk-de64b2b6-8e59-407c-8ae2-a70ba0f1a8c8 div.sk-label label {font-family: monospace;font-weight: bold;background-color: white;display: inline-block;line-height: 1.2em;}#sk-de64b2b6-8e59-407c-8ae2-a70ba0f1a8c8 div.sk-label-container {position: relative;z-index: 2;text-align: center;}#sk-de64b2b6-8e59-407c-8ae2-a70ba0f1a8c8 div.sk-container {/* jupyter's `normalize.less` sets `[hidden] { display: none; }` but bootstrap.min.css set `[hidden] { display: none !important; }` so we also need the `!important` here to be able to override the default hidden behavior on the sphinx rendered scikit-learn.org. See: https://github.com/scikit-learn/scikit-learn/issues/21755 */display: inline-block !important;position: relative;}#sk-de64b2b6-8e59-407c-8ae2-a70ba0f1a8c8 div.sk-text-repr-fallback {display: none;}</style><div id=\"sk-de64b2b6-8e59-407c-8ae2-a70ba0f1a8c8\" class=\"sk-top-container\"><div class=\"sk-text-repr-fallback\"><pre>Pipeline(steps=[(&#x27;variancethreshold&#x27;, VarianceThreshold(threshold=0.5)),\n",
       "                (&#x27;standardscaler&#x27;, StandardScaler()),\n",
       "                (&#x27;logisticregression&#x27;,\n",
       "                 LogisticRegression(penalty=&#x27;l1&#x27;, solver=&#x27;liblinear&#x27;))])</pre><b>Please rerun this cell to show the HTML repr or trust the notebook.</b></div><div class=\"sk-container\" hidden><div class=\"sk-item sk-dashed-wrapped\"><div class=\"sk-label-container\"><div class=\"sk-label sk-toggleable\"><input class=\"sk-toggleable__control sk-hidden--visually\" id=\"4e9572e6-d4aa-4224-8cc0-dd60acf7c0b9\" type=\"checkbox\" ><label for=\"4e9572e6-d4aa-4224-8cc0-dd60acf7c0b9\" class=\"sk-toggleable__label sk-toggleable__label-arrow\">Pipeline</label><div class=\"sk-toggleable__content\"><pre>Pipeline(steps=[(&#x27;variancethreshold&#x27;, VarianceThreshold(threshold=0.5)),\n",
       "                (&#x27;standardscaler&#x27;, StandardScaler()),\n",
       "                (&#x27;logisticregression&#x27;,\n",
       "                 LogisticRegression(penalty=&#x27;l1&#x27;, solver=&#x27;liblinear&#x27;))])</pre></div></div></div><div class=\"sk-serial\"><div class=\"sk-item\"><div class=\"sk-estimator sk-toggleable\"><input class=\"sk-toggleable__control sk-hidden--visually\" id=\"974b50d0-59a2-43c0-9ee1-f3997b920aa7\" type=\"checkbox\" ><label for=\"974b50d0-59a2-43c0-9ee1-f3997b920aa7\" class=\"sk-toggleable__label sk-toggleable__label-arrow\">VarianceThreshold</label><div class=\"sk-toggleable__content\"><pre>VarianceThreshold(threshold=0.5)</pre></div></div></div><div class=\"sk-item\"><div class=\"sk-estimator sk-toggleable\"><input class=\"sk-toggleable__control sk-hidden--visually\" id=\"56aecca7-236b-4afe-a24d-3048bc94cfb8\" type=\"checkbox\" ><label for=\"56aecca7-236b-4afe-a24d-3048bc94cfb8\" class=\"sk-toggleable__label sk-toggleable__label-arrow\">StandardScaler</label><div class=\"sk-toggleable__content\"><pre>StandardScaler()</pre></div></div></div><div class=\"sk-item\"><div class=\"sk-estimator sk-toggleable\"><input class=\"sk-toggleable__control sk-hidden--visually\" id=\"c0b20d53-d761-4e00-b5fb-747f941364bf\" type=\"checkbox\" ><label for=\"c0b20d53-d761-4e00-b5fb-747f941364bf\" class=\"sk-toggleable__label sk-toggleable__label-arrow\">LogisticRegression</label><div class=\"sk-toggleable__content\"><pre>LogisticRegression(penalty=&#x27;l1&#x27;, solver=&#x27;liblinear&#x27;)</pre></div></div></div></div></div></div></div>"
      ],
      "text/plain": [
       "Pipeline(steps=[('variancethreshold', VarianceThreshold(threshold=0.5)),\n",
       "                ('standardscaler', StandardScaler()),\n",
       "                ('logisticregression',\n",
       "                 LogisticRegression(penalty='l1', solver='liblinear'))])"
      ]
     },
     "metadata": {},
     "output_type": "display_data"
    },
    {
     "name": "stdout",
     "output_type": "stream",
     "text": [
      "Test accuracy: 1.0\n"
     ]
    }
   ],
   "source": [
    "selector = VarianceThreshold(0.5)\n",
    "model_sel_var = make_pipeline(selector, StandardScaler(), regressor)\n",
    "display(model_sel_var)\n",
    "model_sel_var.fit(wine_train, wine_labels_train)\n",
    "y_pred = model_sel_var.predict(wine_val)\n",
    "acc_selestor_var_st_scaler = accuracy_score(wine_labels_val, y_pred)\n",
    "print(f'Test accuracy: {acc_selestor_var_st_scaler}')"
   ]
  },
  {
   "cell_type": "code",
   "execution_count": 29,
   "metadata": {},
   "outputs": [
    {
     "name": "stdout",
     "output_type": "stream",
     "text": [
      "Selected columns: ['alcohol' 'malic_acid' 'alcalinity_of_ash' 'magnesium' 'flavanoids'\n",
      " 'color_intensity' 'od280/od315_of_diluted_wines' 'proline']\n",
      "Original shape: (178, 13)\n",
      "Shape after selection: (124, 8)\n"
     ]
    }
   ],
   "source": [
    "selector = VarianceThreshold(0.5).fit(wine_train)\n",
    "wine_data_pruned = selector.transform(wine_train)\n",
    "print(f'Selected columns: {selector.get_feature_names_out()}')\n",
    "print(f'Original shape: {wine_data.shape}')\n",
    "print(f'Shape after selection: {wine_data_pruned.shape}')"
   ]
  },
  {
   "cell_type": "markdown",
   "metadata": {},
   "source": [
    "We've got the best result with treshhold=0.5, although other features as in previous approach were selected."
   ]
  },
  {
   "cell_type": "code",
   "execution_count": 30,
   "metadata": {},
   "outputs": [
    {
     "data": {
      "text/html": [
       "<style>#sk-fa70860f-b3e4-4794-b298-77751832b010 {color: black;background-color: white;}#sk-fa70860f-b3e4-4794-b298-77751832b010 pre{padding: 0;}#sk-fa70860f-b3e4-4794-b298-77751832b010 div.sk-toggleable {background-color: white;}#sk-fa70860f-b3e4-4794-b298-77751832b010 label.sk-toggleable__label {cursor: pointer;display: block;width: 100%;margin-bottom: 0;padding: 0.3em;box-sizing: border-box;text-align: center;}#sk-fa70860f-b3e4-4794-b298-77751832b010 label.sk-toggleable__label-arrow:before {content: \"▸\";float: left;margin-right: 0.25em;color: #696969;}#sk-fa70860f-b3e4-4794-b298-77751832b010 label.sk-toggleable__label-arrow:hover:before {color: black;}#sk-fa70860f-b3e4-4794-b298-77751832b010 div.sk-estimator:hover label.sk-toggleable__label-arrow:before {color: black;}#sk-fa70860f-b3e4-4794-b298-77751832b010 div.sk-toggleable__content {max-height: 0;max-width: 0;overflow: hidden;text-align: left;background-color: #f0f8ff;}#sk-fa70860f-b3e4-4794-b298-77751832b010 div.sk-toggleable__content pre {margin: 0.2em;color: black;border-radius: 0.25em;background-color: #f0f8ff;}#sk-fa70860f-b3e4-4794-b298-77751832b010 input.sk-toggleable__control:checked~div.sk-toggleable__content {max-height: 200px;max-width: 100%;overflow: auto;}#sk-fa70860f-b3e4-4794-b298-77751832b010 input.sk-toggleable__control:checked~label.sk-toggleable__label-arrow:before {content: \"▾\";}#sk-fa70860f-b3e4-4794-b298-77751832b010 div.sk-estimator input.sk-toggleable__control:checked~label.sk-toggleable__label {background-color: #d4ebff;}#sk-fa70860f-b3e4-4794-b298-77751832b010 div.sk-label input.sk-toggleable__control:checked~label.sk-toggleable__label {background-color: #d4ebff;}#sk-fa70860f-b3e4-4794-b298-77751832b010 input.sk-hidden--visually {border: 0;clip: rect(1px 1px 1px 1px);clip: rect(1px, 1px, 1px, 1px);height: 1px;margin: -1px;overflow: hidden;padding: 0;position: absolute;width: 1px;}#sk-fa70860f-b3e4-4794-b298-77751832b010 div.sk-estimator {font-family: monospace;background-color: #f0f8ff;border: 1px dotted black;border-radius: 0.25em;box-sizing: border-box;margin-bottom: 0.5em;}#sk-fa70860f-b3e4-4794-b298-77751832b010 div.sk-estimator:hover {background-color: #d4ebff;}#sk-fa70860f-b3e4-4794-b298-77751832b010 div.sk-parallel-item::after {content: \"\";width: 100%;border-bottom: 1px solid gray;flex-grow: 1;}#sk-fa70860f-b3e4-4794-b298-77751832b010 div.sk-label:hover label.sk-toggleable__label {background-color: #d4ebff;}#sk-fa70860f-b3e4-4794-b298-77751832b010 div.sk-serial::before {content: \"\";position: absolute;border-left: 1px solid gray;box-sizing: border-box;top: 2em;bottom: 0;left: 50%;}#sk-fa70860f-b3e4-4794-b298-77751832b010 div.sk-serial {display: flex;flex-direction: column;align-items: center;background-color: white;padding-right: 0.2em;padding-left: 0.2em;}#sk-fa70860f-b3e4-4794-b298-77751832b010 div.sk-item {z-index: 1;}#sk-fa70860f-b3e4-4794-b298-77751832b010 div.sk-parallel {display: flex;align-items: stretch;justify-content: center;background-color: white;}#sk-fa70860f-b3e4-4794-b298-77751832b010 div.sk-parallel::before {content: \"\";position: absolute;border-left: 1px solid gray;box-sizing: border-box;top: 2em;bottom: 0;left: 50%;}#sk-fa70860f-b3e4-4794-b298-77751832b010 div.sk-parallel-item {display: flex;flex-direction: column;position: relative;background-color: white;}#sk-fa70860f-b3e4-4794-b298-77751832b010 div.sk-parallel-item:first-child::after {align-self: flex-end;width: 50%;}#sk-fa70860f-b3e4-4794-b298-77751832b010 div.sk-parallel-item:last-child::after {align-self: flex-start;width: 50%;}#sk-fa70860f-b3e4-4794-b298-77751832b010 div.sk-parallel-item:only-child::after {width: 0;}#sk-fa70860f-b3e4-4794-b298-77751832b010 div.sk-dashed-wrapped {border: 1px dashed gray;margin: 0 0.4em 0.5em 0.4em;box-sizing: border-box;padding-bottom: 0.4em;background-color: white;position: relative;}#sk-fa70860f-b3e4-4794-b298-77751832b010 div.sk-label label {font-family: monospace;font-weight: bold;background-color: white;display: inline-block;line-height: 1.2em;}#sk-fa70860f-b3e4-4794-b298-77751832b010 div.sk-label-container {position: relative;z-index: 2;text-align: center;}#sk-fa70860f-b3e4-4794-b298-77751832b010 div.sk-container {/* jupyter's `normalize.less` sets `[hidden] { display: none; }` but bootstrap.min.css set `[hidden] { display: none !important; }` so we also need the `!important` here to be able to override the default hidden behavior on the sphinx rendered scikit-learn.org. See: https://github.com/scikit-learn/scikit-learn/issues/21755 */display: inline-block !important;position: relative;}#sk-fa70860f-b3e4-4794-b298-77751832b010 div.sk-text-repr-fallback {display: none;}</style><div id=\"sk-fa70860f-b3e4-4794-b298-77751832b010\" class=\"sk-top-container\"><div class=\"sk-text-repr-fallback\"><pre>Pipeline(steps=[(&#x27;standardscaler&#x27;, StandardScaler()),\n",
       "                (&#x27;sequentialfeatureselector&#x27;,\n",
       "                 SequentialFeatureSelector(direction=&#x27;backward&#x27;,\n",
       "                                           estimator=LogisticRegression(penalty=&#x27;l1&#x27;,\n",
       "                                                                        solver=&#x27;liblinear&#x27;),\n",
       "                                           n_features_to_select=4, n_jobs=-1,\n",
       "                                           scoring=&#x27;accuracy&#x27;)),\n",
       "                (&#x27;logisticregression&#x27;,\n",
       "                 LogisticRegression(penalty=&#x27;l1&#x27;, solver=&#x27;liblinear&#x27;))])</pre><b>Please rerun this cell to show the HTML repr or trust the notebook.</b></div><div class=\"sk-container\" hidden><div class=\"sk-item sk-dashed-wrapped\"><div class=\"sk-label-container\"><div class=\"sk-label sk-toggleable\"><input class=\"sk-toggleable__control sk-hidden--visually\" id=\"ed2574b3-16d7-4efb-ba47-dd9e19029d43\" type=\"checkbox\" ><label for=\"ed2574b3-16d7-4efb-ba47-dd9e19029d43\" class=\"sk-toggleable__label sk-toggleable__label-arrow\">Pipeline</label><div class=\"sk-toggleable__content\"><pre>Pipeline(steps=[(&#x27;standardscaler&#x27;, StandardScaler()),\n",
       "                (&#x27;sequentialfeatureselector&#x27;,\n",
       "                 SequentialFeatureSelector(direction=&#x27;backward&#x27;,\n",
       "                                           estimator=LogisticRegression(penalty=&#x27;l1&#x27;,\n",
       "                                                                        solver=&#x27;liblinear&#x27;),\n",
       "                                           n_features_to_select=4, n_jobs=-1,\n",
       "                                           scoring=&#x27;accuracy&#x27;)),\n",
       "                (&#x27;logisticregression&#x27;,\n",
       "                 LogisticRegression(penalty=&#x27;l1&#x27;, solver=&#x27;liblinear&#x27;))])</pre></div></div></div><div class=\"sk-serial\"><div class=\"sk-item\"><div class=\"sk-estimator sk-toggleable\"><input class=\"sk-toggleable__control sk-hidden--visually\" id=\"f6958261-bb57-4709-a1f8-b431ee69935c\" type=\"checkbox\" ><label for=\"f6958261-bb57-4709-a1f8-b431ee69935c\" class=\"sk-toggleable__label sk-toggleable__label-arrow\">StandardScaler</label><div class=\"sk-toggleable__content\"><pre>StandardScaler()</pre></div></div></div><div class=\"sk-item sk-dashed-wrapped\"><div class=\"sk-label-container\"><div class=\"sk-label sk-toggleable\"><input class=\"sk-toggleable__control sk-hidden--visually\" id=\"88ff6dc0-b54b-4ea9-9554-f44a8c20fa0c\" type=\"checkbox\" ><label for=\"88ff6dc0-b54b-4ea9-9554-f44a8c20fa0c\" class=\"sk-toggleable__label sk-toggleable__label-arrow\">sequentialfeatureselector: SequentialFeatureSelector</label><div class=\"sk-toggleable__content\"><pre>SequentialFeatureSelector(direction=&#x27;backward&#x27;,\n",
       "                          estimator=LogisticRegression(penalty=&#x27;l1&#x27;,\n",
       "                                                       solver=&#x27;liblinear&#x27;),\n",
       "                          n_features_to_select=4, n_jobs=-1,\n",
       "                          scoring=&#x27;accuracy&#x27;)</pre></div></div></div><div class=\"sk-parallel\"><div class=\"sk-parallel-item\"><div class=\"sk-item\"><div class=\"sk-serial\"><div class=\"sk-item\"><div class=\"sk-estimator sk-toggleable\"><input class=\"sk-toggleable__control sk-hidden--visually\" id=\"3f5ed863-cb6e-41e8-bb21-2060dd0f7889\" type=\"checkbox\" ><label for=\"3f5ed863-cb6e-41e8-bb21-2060dd0f7889\" class=\"sk-toggleable__label sk-toggleable__label-arrow\">LogisticRegression</label><div class=\"sk-toggleable__content\"><pre>LogisticRegression(penalty=&#x27;l1&#x27;, solver=&#x27;liblinear&#x27;)</pre></div></div></div></div></div></div></div></div><div class=\"sk-item\"><div class=\"sk-estimator sk-toggleable\"><input class=\"sk-toggleable__control sk-hidden--visually\" id=\"06750588-1fa6-4c4e-b387-16f7538c7c42\" type=\"checkbox\" ><label for=\"06750588-1fa6-4c4e-b387-16f7538c7c42\" class=\"sk-toggleable__label sk-toggleable__label-arrow\">LogisticRegression</label><div class=\"sk-toggleable__content\"><pre>LogisticRegression(penalty=&#x27;l1&#x27;, solver=&#x27;liblinear&#x27;)</pre></div></div></div></div></div></div></div>"
      ],
      "text/plain": [
       "Pipeline(steps=[('standardscaler', StandardScaler()),\n",
       "                ('sequentialfeatureselector',\n",
       "                 SequentialFeatureSelector(direction='backward',\n",
       "                                           estimator=LogisticRegression(penalty='l1',\n",
       "                                                                        solver='liblinear'),\n",
       "                                           n_features_to_select=4, n_jobs=-1,\n",
       "                                           scoring='accuracy')),\n",
       "                ('logisticregression',\n",
       "                 LogisticRegression(penalty='l1', solver='liblinear'))])"
      ]
     },
     "metadata": {},
     "output_type": "display_data"
    },
    {
     "name": "stdout",
     "output_type": "stream",
     "text": [
      "Test accuracy: 0.9814814814814815\n"
     ]
    }
   ],
   "source": [
    "selector = SequentialFeatureSelector(regressor, scoring='accuracy', n_jobs=-1, direction='backward', n_features_to_select=4)\n",
    "model_seq_sel = make_pipeline(StandardScaler(), selector, regressor)\n",
    "display(model_seq_sel)\n",
    "model_seq_sel.fit(wine_train, wine_labels_train)\n",
    "y_pred = model_seq_sel.predict(wine_val)\n",
    "acc_seq_sel_st_scaler = accuracy_score(wine_labels_val, y_pred)\n",
    "print(f'Test accuracy: {acc_seq_sel_st_scaler}')"
   ]
  },
  {
   "cell_type": "code",
   "execution_count": 31,
   "metadata": {},
   "outputs": [
    {
     "name": "stdout",
     "output_type": "stream",
     "text": [
      "Selected columns: ['alcalinity_of_ash', 'flavanoids', 'color_intensity', 'proline']\n",
      "Original shape: (178, 13)\n",
      "Shape after selection: (178, 4)\n"
     ]
    }
   ],
   "source": [
    "selector = SequentialFeatureSelector(regressor, scoring='accuracy', n_jobs=-1, direction='backward', \\\n",
    "                                     n_features_to_select=4).fit(wine_train, wine_labels_train)\n",
    "wine_data_pruned = selector.transform(wine_data)\n",
    "\n",
    "print(f'Selected columns: {wine_data.columns[selector.get_support()].tolist()}')\n",
    "print(f'Original shape: {wine_data.shape}')\n",
    "print(f'Shape after selection: {wine_data_pruned.shape}')"
   ]
  },
  {
   "cell_type": "markdown",
   "metadata": {},
   "source": [
    "Another set of features was selected and the result is equal to the base model."
   ]
  },
  {
   "cell_type": "code",
   "execution_count": 32,
   "metadata": {},
   "outputs": [],
   "source": [
    "from sklearn.neighbors import KNeighborsClassifier"
   ]
  },
  {
   "cell_type": "code",
   "execution_count": 60,
   "metadata": {},
   "outputs": [
    {
     "data": {
      "text/html": [
       "<style>#sk-3cf64a2c-e8ea-401b-a8cf-7e8951041c93 {color: black;background-color: white;}#sk-3cf64a2c-e8ea-401b-a8cf-7e8951041c93 pre{padding: 0;}#sk-3cf64a2c-e8ea-401b-a8cf-7e8951041c93 div.sk-toggleable {background-color: white;}#sk-3cf64a2c-e8ea-401b-a8cf-7e8951041c93 label.sk-toggleable__label {cursor: pointer;display: block;width: 100%;margin-bottom: 0;padding: 0.3em;box-sizing: border-box;text-align: center;}#sk-3cf64a2c-e8ea-401b-a8cf-7e8951041c93 label.sk-toggleable__label-arrow:before {content: \"▸\";float: left;margin-right: 0.25em;color: #696969;}#sk-3cf64a2c-e8ea-401b-a8cf-7e8951041c93 label.sk-toggleable__label-arrow:hover:before {color: black;}#sk-3cf64a2c-e8ea-401b-a8cf-7e8951041c93 div.sk-estimator:hover label.sk-toggleable__label-arrow:before {color: black;}#sk-3cf64a2c-e8ea-401b-a8cf-7e8951041c93 div.sk-toggleable__content {max-height: 0;max-width: 0;overflow: hidden;text-align: left;background-color: #f0f8ff;}#sk-3cf64a2c-e8ea-401b-a8cf-7e8951041c93 div.sk-toggleable__content pre {margin: 0.2em;color: black;border-radius: 0.25em;background-color: #f0f8ff;}#sk-3cf64a2c-e8ea-401b-a8cf-7e8951041c93 input.sk-toggleable__control:checked~div.sk-toggleable__content {max-height: 200px;max-width: 100%;overflow: auto;}#sk-3cf64a2c-e8ea-401b-a8cf-7e8951041c93 input.sk-toggleable__control:checked~label.sk-toggleable__label-arrow:before {content: \"▾\";}#sk-3cf64a2c-e8ea-401b-a8cf-7e8951041c93 div.sk-estimator input.sk-toggleable__control:checked~label.sk-toggleable__label {background-color: #d4ebff;}#sk-3cf64a2c-e8ea-401b-a8cf-7e8951041c93 div.sk-label input.sk-toggleable__control:checked~label.sk-toggleable__label {background-color: #d4ebff;}#sk-3cf64a2c-e8ea-401b-a8cf-7e8951041c93 input.sk-hidden--visually {border: 0;clip: rect(1px 1px 1px 1px);clip: rect(1px, 1px, 1px, 1px);height: 1px;margin: -1px;overflow: hidden;padding: 0;position: absolute;width: 1px;}#sk-3cf64a2c-e8ea-401b-a8cf-7e8951041c93 div.sk-estimator {font-family: monospace;background-color: #f0f8ff;border: 1px dotted black;border-radius: 0.25em;box-sizing: border-box;margin-bottom: 0.5em;}#sk-3cf64a2c-e8ea-401b-a8cf-7e8951041c93 div.sk-estimator:hover {background-color: #d4ebff;}#sk-3cf64a2c-e8ea-401b-a8cf-7e8951041c93 div.sk-parallel-item::after {content: \"\";width: 100%;border-bottom: 1px solid gray;flex-grow: 1;}#sk-3cf64a2c-e8ea-401b-a8cf-7e8951041c93 div.sk-label:hover label.sk-toggleable__label {background-color: #d4ebff;}#sk-3cf64a2c-e8ea-401b-a8cf-7e8951041c93 div.sk-serial::before {content: \"\";position: absolute;border-left: 1px solid gray;box-sizing: border-box;top: 2em;bottom: 0;left: 50%;}#sk-3cf64a2c-e8ea-401b-a8cf-7e8951041c93 div.sk-serial {display: flex;flex-direction: column;align-items: center;background-color: white;padding-right: 0.2em;padding-left: 0.2em;}#sk-3cf64a2c-e8ea-401b-a8cf-7e8951041c93 div.sk-item {z-index: 1;}#sk-3cf64a2c-e8ea-401b-a8cf-7e8951041c93 div.sk-parallel {display: flex;align-items: stretch;justify-content: center;background-color: white;}#sk-3cf64a2c-e8ea-401b-a8cf-7e8951041c93 div.sk-parallel::before {content: \"\";position: absolute;border-left: 1px solid gray;box-sizing: border-box;top: 2em;bottom: 0;left: 50%;}#sk-3cf64a2c-e8ea-401b-a8cf-7e8951041c93 div.sk-parallel-item {display: flex;flex-direction: column;position: relative;background-color: white;}#sk-3cf64a2c-e8ea-401b-a8cf-7e8951041c93 div.sk-parallel-item:first-child::after {align-self: flex-end;width: 50%;}#sk-3cf64a2c-e8ea-401b-a8cf-7e8951041c93 div.sk-parallel-item:last-child::after {align-self: flex-start;width: 50%;}#sk-3cf64a2c-e8ea-401b-a8cf-7e8951041c93 div.sk-parallel-item:only-child::after {width: 0;}#sk-3cf64a2c-e8ea-401b-a8cf-7e8951041c93 div.sk-dashed-wrapped {border: 1px dashed gray;margin: 0 0.4em 0.5em 0.4em;box-sizing: border-box;padding-bottom: 0.4em;background-color: white;position: relative;}#sk-3cf64a2c-e8ea-401b-a8cf-7e8951041c93 div.sk-label label {font-family: monospace;font-weight: bold;background-color: white;display: inline-block;line-height: 1.2em;}#sk-3cf64a2c-e8ea-401b-a8cf-7e8951041c93 div.sk-label-container {position: relative;z-index: 2;text-align: center;}#sk-3cf64a2c-e8ea-401b-a8cf-7e8951041c93 div.sk-container {/* jupyter's `normalize.less` sets `[hidden] { display: none; }` but bootstrap.min.css set `[hidden] { display: none !important; }` so we also need the `!important` here to be able to override the default hidden behavior on the sphinx rendered scikit-learn.org. See: https://github.com/scikit-learn/scikit-learn/issues/21755 */display: inline-block !important;position: relative;}#sk-3cf64a2c-e8ea-401b-a8cf-7e8951041c93 div.sk-text-repr-fallback {display: none;}</style><div id=\"sk-3cf64a2c-e8ea-401b-a8cf-7e8951041c93\" class=\"sk-top-container\"><div class=\"sk-text-repr-fallback\"><pre>Pipeline(steps=[(&#x27;standardscaler&#x27;, StandardScaler()),\n",
       "                (&#x27;sequentialfeatureselector&#x27;,\n",
       "                 SequentialFeatureSelector(estimator=KNeighborsClassifier(),\n",
       "                                           n_jobs=-1, scoring=&#x27;accuracy&#x27;)),\n",
       "                (&#x27;logisticregression&#x27;,\n",
       "                 LogisticRegression(penalty=&#x27;l1&#x27;, solver=&#x27;liblinear&#x27;))])</pre><b>Please rerun this cell to show the HTML repr or trust the notebook.</b></div><div class=\"sk-container\" hidden><div class=\"sk-item sk-dashed-wrapped\"><div class=\"sk-label-container\"><div class=\"sk-label sk-toggleable\"><input class=\"sk-toggleable__control sk-hidden--visually\" id=\"ded8cc62-1c9e-4169-ae18-5e3531c12d78\" type=\"checkbox\" ><label for=\"ded8cc62-1c9e-4169-ae18-5e3531c12d78\" class=\"sk-toggleable__label sk-toggleable__label-arrow\">Pipeline</label><div class=\"sk-toggleable__content\"><pre>Pipeline(steps=[(&#x27;standardscaler&#x27;, StandardScaler()),\n",
       "                (&#x27;sequentialfeatureselector&#x27;,\n",
       "                 SequentialFeatureSelector(estimator=KNeighborsClassifier(),\n",
       "                                           n_jobs=-1, scoring=&#x27;accuracy&#x27;)),\n",
       "                (&#x27;logisticregression&#x27;,\n",
       "                 LogisticRegression(penalty=&#x27;l1&#x27;, solver=&#x27;liblinear&#x27;))])</pre></div></div></div><div class=\"sk-serial\"><div class=\"sk-item\"><div class=\"sk-estimator sk-toggleable\"><input class=\"sk-toggleable__control sk-hidden--visually\" id=\"1b685257-6eae-4c51-a659-835fe8a287c2\" type=\"checkbox\" ><label for=\"1b685257-6eae-4c51-a659-835fe8a287c2\" class=\"sk-toggleable__label sk-toggleable__label-arrow\">StandardScaler</label><div class=\"sk-toggleable__content\"><pre>StandardScaler()</pre></div></div></div><div class=\"sk-item sk-dashed-wrapped\"><div class=\"sk-label-container\"><div class=\"sk-label sk-toggleable\"><input class=\"sk-toggleable__control sk-hidden--visually\" id=\"bb432bc6-63cc-4640-84c5-6e0a4dd752bd\" type=\"checkbox\" ><label for=\"bb432bc6-63cc-4640-84c5-6e0a4dd752bd\" class=\"sk-toggleable__label sk-toggleable__label-arrow\">sequentialfeatureselector: SequentialFeatureSelector</label><div class=\"sk-toggleable__content\"><pre>SequentialFeatureSelector(estimator=KNeighborsClassifier(), n_jobs=-1,\n",
       "                          scoring=&#x27;accuracy&#x27;)</pre></div></div></div><div class=\"sk-parallel\"><div class=\"sk-parallel-item\"><div class=\"sk-item\"><div class=\"sk-serial\"><div class=\"sk-item\"><div class=\"sk-estimator sk-toggleable\"><input class=\"sk-toggleable__control sk-hidden--visually\" id=\"60f1088d-6511-42da-91b2-40e39c4d3d67\" type=\"checkbox\" ><label for=\"60f1088d-6511-42da-91b2-40e39c4d3d67\" class=\"sk-toggleable__label sk-toggleable__label-arrow\">KNeighborsClassifier</label><div class=\"sk-toggleable__content\"><pre>KNeighborsClassifier()</pre></div></div></div></div></div></div></div></div><div class=\"sk-item\"><div class=\"sk-estimator sk-toggleable\"><input class=\"sk-toggleable__control sk-hidden--visually\" id=\"097a5379-0c0c-4072-8fa3-733029396b31\" type=\"checkbox\" ><label for=\"097a5379-0c0c-4072-8fa3-733029396b31\" class=\"sk-toggleable__label sk-toggleable__label-arrow\">LogisticRegression</label><div class=\"sk-toggleable__content\"><pre>LogisticRegression(penalty=&#x27;l1&#x27;, solver=&#x27;liblinear&#x27;)</pre></div></div></div></div></div></div></div>"
      ],
      "text/plain": [
       "Pipeline(steps=[('standardscaler', StandardScaler()),\n",
       "                ('sequentialfeatureselector',\n",
       "                 SequentialFeatureSelector(estimator=KNeighborsClassifier(),\n",
       "                                           n_jobs=-1, scoring='accuracy')),\n",
       "                ('logisticregression',\n",
       "                 LogisticRegression(penalty='l1', solver='liblinear'))])"
      ]
     },
     "metadata": {},
     "output_type": "display_data"
    },
    {
     "name": "stdout",
     "output_type": "stream",
     "text": [
      "Test accuracy: 1.0\n"
     ]
    }
   ],
   "source": [
    "knn = KNeighborsClassifier()\n",
    "selector = SequentialFeatureSelector(knn, scoring='accuracy', n_jobs=-1)\n",
    "model_seq_sel_knn = make_pipeline(StandardScaler(), selector, regressor)\n",
    "display(model_seq_sel_knn)\n",
    "model_seq_sel_knn.fit(wine_train, wine_labels_train)\n",
    "y_pred = model_seq_sel_knn.predict(wine_val)\n",
    "acc_seq_sel_knn_st_scaler = accuracy_score(wine_labels_val, y_pred)\n",
    "print(f'Test accuracy: {acc_seq_sel_knn_st_scaler}')"
   ]
  },
  {
   "cell_type": "markdown",
   "metadata": {},
   "source": [
    "We've got next result:"
   ]
  },
  {
   "cell_type": "code",
   "execution_count": 34,
   "metadata": {},
   "outputs": [
    {
     "data": {
      "text/html": [
       "<div>\n",
       "<style scoped>\n",
       "    .dataframe tbody tr th:only-of-type {\n",
       "        vertical-align: middle;\n",
       "    }\n",
       "\n",
       "    .dataframe tbody tr th {\n",
       "        vertical-align: top;\n",
       "    }\n",
       "\n",
       "    .dataframe thead th {\n",
       "        text-align: right;\n",
       "    }\n",
       "</style>\n",
       "<table border=\"1\" class=\"dataframe\">\n",
       "  <thead>\n",
       "    <tr style=\"text-align: right;\">\n",
       "      <th></th>\n",
       "      <th>Test accuracy</th>\n",
       "    </tr>\n",
       "  </thead>\n",
       "  <tbody>\n",
       "    <tr>\n",
       "      <th>Base model</th>\n",
       "      <td>0.981481</td>\n",
       "    </tr>\n",
       "    <tr>\n",
       "      <th>+ MinMaxScaler</th>\n",
       "      <td>1.000000</td>\n",
       "    </tr>\n",
       "    <tr>\n",
       "      <th>+ StandardScaler</th>\n",
       "      <td>0.981481</td>\n",
       "    </tr>\n",
       "    <tr>\n",
       "      <th>+ RandomForestClassifier and StandardScaler</th>\n",
       "      <td>1.000000</td>\n",
       "    </tr>\n",
       "    <tr>\n",
       "      <th>+ VarianceTreshold(0.5) and StandardScaler</th>\n",
       "      <td>1.000000</td>\n",
       "    </tr>\n",
       "    <tr>\n",
       "      <th>+ SequentialFeatureSelector and StandardScaler</th>\n",
       "      <td>0.981481</td>\n",
       "    </tr>\n",
       "    <tr>\n",
       "      <th>+ SequentialFeatureSelector with KNN and StSc</th>\n",
       "      <td>1.000000</td>\n",
       "    </tr>\n",
       "  </tbody>\n",
       "</table>\n",
       "</div>"
      ],
      "text/plain": [
       "                                                Test accuracy\n",
       "Base model                                           0.981481\n",
       "+ MinMaxScaler                                       1.000000\n",
       "+ StandardScaler                                     0.981481\n",
       "+ RandomForestClassifier and StandardScaler          1.000000\n",
       "+ VarianceTreshold(0.5) and StandardScaler           1.000000\n",
       "+ SequentialFeatureSelector and StandardScaler       0.981481\n",
       "+ SequentialFeatureSelector with KNN and StSc        1.000000"
      ]
     },
     "execution_count": 34,
     "metadata": {},
     "output_type": "execute_result"
    }
   ],
   "source": [
    "data = {'Test accuracy': [acc_base_model, acc_mm_scaler, acc_st_scaler, acc_selestor_st_scaler, \\\n",
    "                          acc_selestor_var_st_scaler, acc_seq_sel_st_scaler, acc_seq_sel_knn_st_scaler]}\n",
    "models = ['Base model', '+ MinMaxScaler', '+ StandardScaler', '+ RandomForestClassifier and StandardScaler', \\\n",
    "          '+ VarianceTreshold(0.5) and StandardScaler', '+ SequentialFeatureSelector and StandardScaler', \\\n",
    "         '+ SequentialFeatureSelector with KNN and StSc']\n",
    "pd.DataFrame(data, index=models)"
   ]
  },
  {
   "cell_type": "markdown",
   "metadata": {},
   "source": [
    "The best results were reached using `MinMaxScaler` and combinations of `StandardScaler` and `RandomForestClassifier`, `VarianceTreshold(0.5)` or `SequentialFeatureSelector` with `KNN` as estimator as selectors.\n",
    "\n",
    "I suppose, MinMaxScaler works better in our situation, because the features don't have outliers and their distribution is mostly skewed. Also we can say that most of them have pretty explainable boundaries so we can normalize them to \\[0, 1\\]."
   ]
  },
  {
   "cell_type": "markdown",
   "metadata": {},
   "source": [
    "## Exercise 4 - manual PCA (5 points)\n",
    "The task is to solve PCA as an optimization problem, without explicitly doing eigen value decomposition.\n",
    "In the most general setting PCA is minimization of reconstruction error of a projection of given rank $q$\n",
    "\n",
    "$$\\min_{\\mu, \\lambda_1,\\ldots, \\lambda_n, \\mathbf{V}_q} \\sum_{i=1}^n ||x_i - \\mu - \\mathbf{V}_q \\lambda_i||^2$$\n",
    "\n",
    "With a number of steps that can be found here https://stats.stackexchange.com/a/10260 this task transforms to\n",
    " $$\\max_{u_i} \\sum_{i=1}^q u_i^T \\mathbf{S} u_i$$\n",
    " where $\\mathbf{S}$ is the sample covariance matrix (after standartization) and $u_1, \\ldots, u_q$ are the $q$ orthonormal columns in $\\mathbf{V}_q$.\n",
    " Let us solve this optimization problem with `scipy.optimize` library.\n",
    " \n",
    " Additional 2 point are given for visualization of the results."
   ]
  },
  {
   "cell_type": "markdown",
   "metadata": {},
   "source": [
    "### PCA (3 points)"
   ]
  },
  {
   "cell_type": "code",
   "execution_count": 35,
   "metadata": {},
   "outputs": [],
   "source": [
    "wine_data, wine_labels = wine_sklearn['data'], wine_sklearn['target']"
   ]
  },
  {
   "cell_type": "markdown",
   "metadata": {},
   "source": [
    "Find a covariance matrix of standartized data and assing it to S."
   ]
  },
  {
   "cell_type": "code",
   "execution_count": 36,
   "metadata": {},
   "outputs": [],
   "source": [
    "## your code\n",
    "wine_data_sc = st_scaler.fit_transform(wine_data)\n",
    "# S = np.cov(wine_data_sc, bias=False, rowvar=False) # option with numpy \n",
    "data_centered = wine_data_sc - wine_data_sc.mean(axis=0)\n",
    "N = data_centered.shape[0]\n",
    "S = ((data_centered.T @ data_centered) / (N - 1))"
   ]
  },
  {
   "cell_type": "code",
   "execution_count": 37,
   "metadata": {},
   "outputs": [
    {
     "data": {
      "text/plain": [
       "(13, 13)"
      ]
     },
     "execution_count": 37,
     "metadata": {},
     "output_type": "execute_result"
    }
   ],
   "source": [
    "S.shape"
   ]
  },
  {
   "cell_type": "markdown",
   "metadata": {},
   "source": [
    "If your code is correct, the following assert should be Ok."
   ]
  },
  {
   "cell_type": "code",
   "execution_count": 38,
   "metadata": {},
   "outputs": [],
   "source": [
    "assert np.allclose(np.linalg.norm(S), 5.787241159764733)"
   ]
  },
  {
   "cell_type": "code",
   "execution_count": 39,
   "metadata": {},
   "outputs": [],
   "source": [
    "from scipy.optimize import minimize\n",
    "\n",
    "def objective(x):\n",
    "    return - x @ S @ x\n",
    "    # your code: write objective of the problem (don't forget that scipy does min while we need max)\n",
    "\n",
    "def norm_constraint(x):\n",
    "    return np.linalg.norm(x) - 1\n",
    "    # your code: constaraint norm of x to be 1, function should return 0 if constraint holds\n",
    "\n",
    "con1 = {'type': 'eq', 'fun': norm_constraint}\n",
    "\n",
    "x0 = np.ones(data_centered.shape[1]) # your code: initial vector to start optimization\n",
    "\n",
    "sol = minimize(objective, \n",
    "               x0, \n",
    "               constraints = [con1]\n",
    "              )\n",
    "x0 = sol.x"
   ]
  },
  {
   "cell_type": "markdown",
   "metadata": {},
   "source": [
    "Hurray! We have first vector! Let's do another one."
   ]
  },
  {
   "cell_type": "code",
   "execution_count": 40,
   "metadata": {},
   "outputs": [],
   "source": [
    "def orthogonality_constraint(x):\n",
    "    return x @ x0\n",
    "    # your code: x should be orthogonal to x0, function should return 0 if constraint holds\n",
    "\n",
    "con2 = {'type': 'eq', 'fun': orthogonality_constraint}\n",
    "\n",
    "x1 = np.ones(data_centered.shape[1]) # your code: initial vector to start optimization\n",
    "\n",
    "\n",
    "sol = minimize(objective, \n",
    "               x1, \n",
    "               constraints = [con1, con2] #your code\n",
    "              )\n",
    "\n",
    "x1 = sol.x"
   ]
  },
  {
   "cell_type": "markdown",
   "metadata": {},
   "source": [
    "If your solution is correct, the following asserts should be Ok."
   ]
  },
  {
   "cell_type": "code",
   "execution_count": 41,
   "metadata": {},
   "outputs": [],
   "source": [
    "assert np.allclose(x0@S@x0, 4.732436977583595)\n",
    "assert np.allclose(x1@S@x1, 2.5110809296451233)"
   ]
  },
  {
   "cell_type": "markdown",
   "metadata": {},
   "source": [
    "### Visualization (2 points)"
   ]
  },
  {
   "cell_type": "markdown",
   "metadata": {},
   "source": [
    "Visualize the points after applying custom dimension reduction with 2 components."
   ]
  },
  {
   "cell_type": "code",
   "execution_count": 42,
   "metadata": {},
   "outputs": [
    {
     "data": {
      "text/html": [
       "<div>\n",
       "<style scoped>\n",
       "    .dataframe tbody tr th:only-of-type {\n",
       "        vertical-align: middle;\n",
       "    }\n",
       "\n",
       "    .dataframe tbody tr th {\n",
       "        vertical-align: top;\n",
       "    }\n",
       "\n",
       "    .dataframe thead th {\n",
       "        text-align: right;\n",
       "    }\n",
       "</style>\n",
       "<table border=\"1\" class=\"dataframe\">\n",
       "  <thead>\n",
       "    <tr style=\"text-align: right;\">\n",
       "      <th></th>\n",
       "      <th>PC1</th>\n",
       "      <th>PC2</th>\n",
       "      <th>label</th>\n",
       "    </tr>\n",
       "  </thead>\n",
       "  <tbody>\n",
       "    <tr>\n",
       "      <th>0</th>\n",
       "      <td>3.316768</td>\n",
       "      <td>1.443166</td>\n",
       "      <td>0</td>\n",
       "    </tr>\n",
       "    <tr>\n",
       "      <th>1</th>\n",
       "      <td>2.208547</td>\n",
       "      <td>-0.333585</td>\n",
       "      <td>0</td>\n",
       "    </tr>\n",
       "    <tr>\n",
       "      <th>2</th>\n",
       "      <td>2.516957</td>\n",
       "      <td>1.030917</td>\n",
       "      <td>0</td>\n",
       "    </tr>\n",
       "    <tr>\n",
       "      <th>3</th>\n",
       "      <td>3.757323</td>\n",
       "      <td>2.756036</td>\n",
       "      <td>0</td>\n",
       "    </tr>\n",
       "    <tr>\n",
       "      <th>4</th>\n",
       "      <td>1.009300</td>\n",
       "      <td>0.869733</td>\n",
       "      <td>0</td>\n",
       "    </tr>\n",
       "    <tr>\n",
       "      <th>...</th>\n",
       "      <td>...</td>\n",
       "      <td>...</td>\n",
       "      <td>...</td>\n",
       "    </tr>\n",
       "    <tr>\n",
       "      <th>173</th>\n",
       "      <td>-3.369721</td>\n",
       "      <td>2.216582</td>\n",
       "      <td>2</td>\n",
       "    </tr>\n",
       "    <tr>\n",
       "      <th>174</th>\n",
       "      <td>-2.601290</td>\n",
       "      <td>1.757461</td>\n",
       "      <td>2</td>\n",
       "    </tr>\n",
       "    <tr>\n",
       "      <th>175</th>\n",
       "      <td>-2.677520</td>\n",
       "      <td>2.761147</td>\n",
       "      <td>2</td>\n",
       "    </tr>\n",
       "    <tr>\n",
       "      <th>176</th>\n",
       "      <td>-2.387300</td>\n",
       "      <td>2.297565</td>\n",
       "      <td>2</td>\n",
       "    </tr>\n",
       "    <tr>\n",
       "      <th>177</th>\n",
       "      <td>-3.207803</td>\n",
       "      <td>2.769198</td>\n",
       "      <td>2</td>\n",
       "    </tr>\n",
       "  </tbody>\n",
       "</table>\n",
       "<p>178 rows × 3 columns</p>\n",
       "</div>"
      ],
      "text/plain": [
       "          PC1       PC2  label\n",
       "0    3.316768  1.443166      0\n",
       "1    2.208547 -0.333585      0\n",
       "2    2.516957  1.030917      0\n",
       "3    3.757323  2.756036      0\n",
       "4    1.009300  0.869733      0\n",
       "..        ...       ...    ...\n",
       "173 -3.369721  2.216582      2\n",
       "174 -2.601290  1.757461      2\n",
       "175 -2.677520  2.761147      2\n",
       "176 -2.387300  2.297565      2\n",
       "177 -3.207803  2.769198      2\n",
       "\n",
       "[178 rows x 3 columns]"
      ]
     },
     "execution_count": 42,
     "metadata": {},
     "output_type": "execute_result"
    }
   ],
   "source": [
    "projected_1 = wine_data_sc @ x0\n",
    "projected_2 = wine_data_sc @ x1\n",
    "pca = pd.DataFrame(projected_1, columns=['PC1'])\n",
    "pca['PC2'] = projected_2\n",
    "pca['label'] = wine_labels\n",
    "pca"
   ]
  },
  {
   "cell_type": "code",
   "execution_count": 43,
   "metadata": {},
   "outputs": [
    {
     "data": {
      "image/png": "[encoded data removed]",
      "text/plain": [
       "<Figure size 288x288 with 1 Axes>"
      ]
     },
     "metadata": {},
     "output_type": "display_data"
    }
   ],
   "source": [
    "plot_scatter(x=pca['PC1'], y=pca['PC2'], title='Clusters by PCA', clusters=pca['label'])"
   ]
  },
  {
   "cell_type": "markdown",
   "metadata": {},
   "source": [
    "## Exercise 5 - Boruta (3 points)\n",
    "\n",
    "Let us classify handwritten digits 0, 1 and 2. \n",
    "To make task not so easy the images are binarized (no shadows of gray present) as it happens with xerocopied documents.\n",
    "\n",
    "Let us also find out to which parts of an image there's no need to look in order to clasify three digits of interest."
   ]
  },
  {
   "cell_type": "code",
   "execution_count": 44,
   "metadata": {},
   "outputs": [],
   "source": [
    "plt.style.use('default')"
   ]
  },
  {
   "cell_type": "code",
   "execution_count": 45,
   "metadata": {},
   "outputs": [],
   "source": [
    "X, y = load_digits(n_class=3, return_X_y=True, as_frame=True)\n",
    "X = (X>10).astype(int)"
   ]
  },
  {
   "cell_type": "code",
   "execution_count": 46,
   "metadata": {},
   "outputs": [
    {
     "data": {
      "image/png": "[encoded data removed]",
      "text/plain": [
       "<Figure size 1000x400 with 3 Axes>"
      ]
     },
     "metadata": {},
     "output_type": "display_data"
    }
   ],
   "source": [
    "f, ax = plt.subplots(1,3,figsize=(10,4))\n",
    "for i in range(3):\n",
    "    ax[i].imshow(X.iloc[i].values.reshape(8,8))\n",
    "    ax[i].set_title(f\"This is digit {y[i]}.\")\n",
    "plt.suptitle(\"First three images.\")\n",
    "plt.show()"
   ]
  },
  {
   "cell_type": "markdown",
   "metadata": {},
   "source": [
    "Split data into train and test, let test size be 30% of the dataset and fix random state to 42:"
   ]
  },
  {
   "cell_type": "code",
   "execution_count": 47,
   "metadata": {},
   "outputs": [],
   "source": [
    "X_train, X_val, y_train, y_val = train_test_split(X, y, test_size=0.3, random_state=42) ## your code here"
   ]
  },
  {
   "cell_type": "code",
   "execution_count": 48,
   "metadata": {},
   "outputs": [],
   "source": [
    "assert y_val.shape[0] == 162\n",
    "assert y_val.sum() == 169"
   ]
  },
  {
   "cell_type": "markdown",
   "metadata": {},
   "source": [
    "Fit a RandomForestClassifier with max_depth=13 and evaluate it's performance:"
   ]
  },
  {
   "cell_type": "code",
   "execution_count": 49,
   "metadata": {},
   "outputs": [
    {
     "name": "stdout",
     "output_type": "stream",
     "text": [
      "0.9938271604938271\n"
     ]
    }
   ],
   "source": [
    "clf = RandomForestClassifier(max_depth=13)\n",
    "\n",
    "# your code here\n",
    "clf.fit(X_train, y_train)\n",
    "y_pred = clf.predict(X_val)\n",
    "\n",
    "# your code here\n",
    "acc = accuracy_score(y_val, y_pred)\n",
    "print(acc)"
   ]
  },
  {
   "cell_type": "code",
   "execution_count": 50,
   "metadata": {},
   "outputs": [],
   "source": [
    "assert acc > 0.98"
   ]
  },
  {
   "cell_type": "markdown",
   "metadata": {},
   "source": [
    "Now we will use Boruta to find redundand pixels. If the package is not installed in your system, uncomment and run the following cell."
   ]
  },
  {
   "cell_type": "code",
   "execution_count": 51,
   "metadata": {},
   "outputs": [],
   "source": [
    "# ! pip install boruta"
   ]
  },
  {
   "cell_type": "code",
   "execution_count": 56,
   "metadata": {},
   "outputs": [
    {
     "data": {
      "text/html": [
       "<style>#sk-b24003c7-6249-4402-8065-ee5d00f3c005 {color: black;background-color: white;}#sk-b24003c7-6249-4402-8065-ee5d00f3c005 pre{padding: 0;}#sk-b24003c7-6249-4402-8065-ee5d00f3c005 div.sk-toggleable {background-color: white;}#sk-b24003c7-6249-4402-8065-ee5d00f3c005 label.sk-toggleable__label {cursor: pointer;display: block;width: 100%;margin-bottom: 0;padding: 0.3em;box-sizing: border-box;text-align: center;}#sk-b24003c7-6249-4402-8065-ee5d00f3c005 label.sk-toggleable__label-arrow:before {content: \"▸\";float: left;margin-right: 0.25em;color: #696969;}#sk-b24003c7-6249-4402-8065-ee5d00f3c005 label.sk-toggleable__label-arrow:hover:before {color: black;}#sk-b24003c7-6249-4402-8065-ee5d00f3c005 div.sk-estimator:hover label.sk-toggleable__label-arrow:before {color: black;}#sk-b24003c7-6249-4402-8065-ee5d00f3c005 div.sk-toggleable__content {max-height: 0;max-width: 0;overflow: hidden;text-align: left;background-color: #f0f8ff;}#sk-b24003c7-6249-4402-8065-ee5d00f3c005 div.sk-toggleable__content pre {margin: 0.2em;color: black;border-radius: 0.25em;background-color: #f0f8ff;}#sk-b24003c7-6249-4402-8065-ee5d00f3c005 input.sk-toggleable__control:checked~div.sk-toggleable__content {max-height: 200px;max-width: 100%;overflow: auto;}#sk-b24003c7-6249-4402-8065-ee5d00f3c005 input.sk-toggleable__control:checked~label.sk-toggleable__label-arrow:before {content: \"▾\";}#sk-b24003c7-6249-4402-8065-ee5d00f3c005 div.sk-estimator input.sk-toggleable__control:checked~label.sk-toggleable__label {background-color: #d4ebff;}#sk-b24003c7-6249-4402-8065-ee5d00f3c005 div.sk-label input.sk-toggleable__control:checked~label.sk-toggleable__label {background-color: #d4ebff;}#sk-b24003c7-6249-4402-8065-ee5d00f3c005 input.sk-hidden--visually {border: 0;clip: rect(1px 1px 1px 1px);clip: rect(1px, 1px, 1px, 1px);height: 1px;margin: -1px;overflow: hidden;padding: 0;position: absolute;width: 1px;}#sk-b24003c7-6249-4402-8065-ee5d00f3c005 div.sk-estimator {font-family: monospace;background-color: #f0f8ff;border: 1px dotted black;border-radius: 0.25em;box-sizing: border-box;margin-bottom: 0.5em;}#sk-b24003c7-6249-4402-8065-ee5d00f3c005 div.sk-estimator:hover {background-color: #d4ebff;}#sk-b24003c7-6249-4402-8065-ee5d00f3c005 div.sk-parallel-item::after {content: \"\";width: 100%;border-bottom: 1px solid gray;flex-grow: 1;}#sk-b24003c7-6249-4402-8065-ee5d00f3c005 div.sk-label:hover label.sk-toggleable__label {background-color: #d4ebff;}#sk-b24003c7-6249-4402-8065-ee5d00f3c005 div.sk-serial::before {content: \"\";position: absolute;border-left: 1px solid gray;box-sizing: border-box;top: 2em;bottom: 0;left: 50%;}#sk-b24003c7-6249-4402-8065-ee5d00f3c005 div.sk-serial {display: flex;flex-direction: column;align-items: center;background-color: white;padding-right: 0.2em;padding-left: 0.2em;}#sk-b24003c7-6249-4402-8065-ee5d00f3c005 div.sk-item {z-index: 1;}#sk-b24003c7-6249-4402-8065-ee5d00f3c005 div.sk-parallel {display: flex;align-items: stretch;justify-content: center;background-color: white;}#sk-b24003c7-6249-4402-8065-ee5d00f3c005 div.sk-parallel::before {content: \"\";position: absolute;border-left: 1px solid gray;box-sizing: border-box;top: 2em;bottom: 0;left: 50%;}#sk-b24003c7-6249-4402-8065-ee5d00f3c005 div.sk-parallel-item {display: flex;flex-direction: column;position: relative;background-color: white;}#sk-b24003c7-6249-4402-8065-ee5d00f3c005 div.sk-parallel-item:first-child::after {align-self: flex-end;width: 50%;}#sk-b24003c7-6249-4402-8065-ee5d00f3c005 div.sk-parallel-item:last-child::after {align-self: flex-start;width: 50%;}#sk-b24003c7-6249-4402-8065-ee5d00f3c005 div.sk-parallel-item:only-child::after {width: 0;}#sk-b24003c7-6249-4402-8065-ee5d00f3c005 div.sk-dashed-wrapped {border: 1px dashed gray;margin: 0 0.4em 0.5em 0.4em;box-sizing: border-box;padding-bottom: 0.4em;background-color: white;position: relative;}#sk-b24003c7-6249-4402-8065-ee5d00f3c005 div.sk-label label {font-family: monospace;font-weight: bold;background-color: white;display: inline-block;line-height: 1.2em;}#sk-b24003c7-6249-4402-8065-ee5d00f3c005 div.sk-label-container {position: relative;z-index: 2;text-align: center;}#sk-b24003c7-6249-4402-8065-ee5d00f3c005 div.sk-container {/* jupyter's `normalize.less` sets `[hidden] { display: none; }` but bootstrap.min.css set `[hidden] { display: none !important; }` so we also need the `!important` here to be able to override the default hidden behavior on the sphinx rendered scikit-learn.org. See: https://github.com/scikit-learn/scikit-learn/issues/21755 */display: inline-block !important;position: relative;}#sk-b24003c7-6249-4402-8065-ee5d00f3c005 div.sk-text-repr-fallback {display: none;}</style><div id=\"sk-b24003c7-6249-4402-8065-ee5d00f3c005\" class=\"sk-top-container\"><div class=\"sk-text-repr-fallback\"><pre>BorutaPy(estimator=RandomForestClassifier(max_depth=13, n_estimators=62,\n",
       "                                          random_state=RandomState(MT19937) at 0x1E006FD3540),\n",
       "         n_estimators=&#x27;auto&#x27;,\n",
       "         random_state=RandomState(MT19937) at 0x1E006FD3540)</pre><b>Please rerun this cell to show the HTML repr or trust the notebook.</b></div><div class=\"sk-container\" hidden><div class=\"sk-item sk-dashed-wrapped\"><div class=\"sk-label-container\"><div class=\"sk-label sk-toggleable\"><input class=\"sk-toggleable__control sk-hidden--visually\" id=\"b750e3c9-62b1-454d-9c8b-5121fc2cbebe\" type=\"checkbox\" ><label for=\"b750e3c9-62b1-454d-9c8b-5121fc2cbebe\" class=\"sk-toggleable__label sk-toggleable__label-arrow\">BorutaPy</label><div class=\"sk-toggleable__content\"><pre>BorutaPy(estimator=RandomForestClassifier(max_depth=13, n_estimators=62,\n",
       "                                          random_state=RandomState(MT19937) at 0x1E006FD3540),\n",
       "         n_estimators=&#x27;auto&#x27;,\n",
       "         random_state=RandomState(MT19937) at 0x1E006FD3540)</pre></div></div></div><div class=\"sk-parallel\"><div class=\"sk-parallel-item\"><div class=\"sk-item\"><div class=\"sk-serial\"><div class=\"sk-item\"><div class=\"sk-estimator sk-toggleable\"><input class=\"sk-toggleable__control sk-hidden--visually\" id=\"6d625078-8dc6-4101-b1fe-1e6a51e4e618\" type=\"checkbox\" ><label for=\"6d625078-8dc6-4101-b1fe-1e6a51e4e618\" class=\"sk-toggleable__label sk-toggleable__label-arrow\">RandomForestClassifier</label><div class=\"sk-toggleable__content\"><pre>RandomForestClassifier(max_depth=13, n_estimators=62,\n",
       "                       random_state=RandomState(MT19937) at 0x1E006FD3540)</pre></div></div></div></div></div></div></div></div></div></div>"
      ],
      "text/plain": [
       "BorutaPy(estimator=RandomForestClassifier(max_depth=13, n_estimators=62,\n",
       "                                          random_state=RandomState(MT19937) at 0x1E006FD3540),\n",
       "         n_estimators='auto',\n",
       "         random_state=RandomState(MT19937) at 0x1E006FD3540)"
      ]
     },
     "execution_count": 56,
     "metadata": {},
     "output_type": "execute_result"
    }
   ],
   "source": [
    "from boruta import BorutaPy\n",
    "\n",
    "feat_selector = BorutaPy(RandomForestClassifier(max_depth=13), \n",
    "                         n_estimators='auto', \n",
    "                         verbose=0, \n",
    "                         max_iter=100,\n",
    "                         random_state=50)\n",
    "\n",
    "# your code here: do run the boruta\n",
    "feat_selector.fit(np.array(X_train), np.array(y_train))"
   ]
  },
  {
   "cell_type": "markdown",
   "metadata": {},
   "source": [
    "Let us print redundant pixels as a mask. Does the result looks similar to mine (or to Among us chracters)? "
   ]
  },
  {
   "cell_type": "code",
   "execution_count": 57,
   "metadata": {},
   "outputs": [
    {
     "data": {
      "image/png": "[encoded data removed]",
      "text/plain": [
       "<Figure size 640x480 with 1 Axes>"
      ]
     },
     "metadata": {},
     "output_type": "display_data"
    }
   ],
   "source": [
    "mask = np.array(feat_selector.support_).reshape(8,8)\n",
    "plt.imshow(mask);"
   ]
  },
  {
   "cell_type": "markdown",
   "metadata": {},
   "source": [
    "At the end let us redo  classification but only with selected features"
   ]
  },
  {
   "cell_type": "code",
   "execution_count": 58,
   "metadata": {},
   "outputs": [
    {
     "name": "stdout",
     "output_type": "stream",
     "text": [
      "0.9938271604938271\n"
     ]
    }
   ],
   "source": [
    "clf = RandomForestClassifier(max_depth=13)\n",
    "\n",
    "# your code here\n",
    "selected_features = X.columns[feat_selector.support_].to_list()\n",
    "clf.fit(X_train[selected_features], y_train)\n",
    "\n",
    "y_pred = clf.predict(X_val[selected_features])\n",
    "acc = accuracy_score(y_val, y_pred)\n",
    "print(acc)"
   ]
  },
  {
   "cell_type": "code",
   "execution_count": 59,
   "metadata": {},
   "outputs": [],
   "source": [
    "assert acc > 0.99"
   ]
  },
  {
   "cell_type": "markdown",
   "metadata": {},
   "source": [
    "# Materials & References"
   ]
  },
  {
   "cell_type": "markdown",
   "metadata": {},
   "source": [
    "1. General article about feature engineering and selection (main reference):\n",
    "https://github.com/Yorko/mlcourse.ai/blob/master/jupyter_english/topic06_features_regression/topic6_feature_engineering_feature_selection.ipynb\n",
    "\n",
    "2. Feature engineering/preprocessing, using scikit-learn API (great code examples, but really brief explanation):    \n",
    "https://scikit-learn.org/stable/modules/preprocessing\n",
    "\n",
    "3. Feature scaling/normalization:     \n",
    "https://towardsdatascience.com/all-about-feature-scaling-bcc0ad75cb35\n",
    "\n",
    "4. Log Transform/power transform:    \n",
    "https://medium.com/@kyawsawhtoon/log-transformation-purpose-and-interpretation-9444b4b049c9\n",
    "\n",
    "6. Missing values preprocessing using scikit-learn API (great code examples, great explanation):    \n",
    "https://scikit-learn.org/stable/modules/impute.html\n",
    "\n",
    "7. Feature selection scikit-learn API (great code examples, great explanation):   \n",
    "https://scikit-learn.org/stable/modules/feature_selection.html\n",
    "\n",
    "8. Melbourne housing dataset source:    \n",
    "https://www.kaggle.com/anthonypino/melbourne-housing-market"
   ]
  }
 ],
 "metadata": {
  "kernelspec": {
   "display_name": "Python 3 (ipykernel)",
   "language": "python",
   "name": "python3"
  },
  "language_info": {
   "codemirror_mode": {
    "name": "ipython",
    "version": 3
   },
   "file_extension": ".py",
   "mimetype": "text/x-python",
   "name": "python",
   "nbconvert_exporter": "python",
   "pygments_lexer": "ipython3",
   "version": "3.9.7"
  },
  "toc": {
   "base_numbering": "1",
   "nav_menu": {},
   "number_sections": true,
   "sideBar": true,
   "skip_h1_title": false,
   "title_cell": "Table of Contents",
   "title_sidebar": "Contents",
   "toc_cell": false,
   "toc_position": {
    "height": "calc(100% - 180px)",
    "left": "10px",
    "top": "150px",
    "width": "165px"
   },
   "toc_section_display": true,
   "toc_window_display": true
  }
 },
 "nbformat": 4,
 "nbformat_minor": 4
}
